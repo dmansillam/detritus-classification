{
 "cells": [
  {
   "cell_type": "code",
   "execution_count": 1,
   "metadata": {
    "scrolled": true
   },
   "outputs": [
    {
     "name": "stderr",
     "output_type": "stream",
     "text": [
      "2022-06-09 11:13:45.772531: I tensorflow/stream_executor/platform/default/dso_loader.cc:53] Successfully opened dynamic library libcudart.so.11.0\n"
     ]
    }
   ],
   "source": [
    "import matplotlib.pyplot as plt\n",
    "import numpy as np\n",
    "import os\n",
    "import tensorflow as tf\n",
    "from tensorflow import keras\n",
    "from tensorflow.keras import preprocessing\n",
    "from tensorflow.keras import regularizers\n",
    "from tensorflow.keras.preprocessing import image_dataset_from_directory"
   ]
  },
  {
   "cell_type": "code",
   "execution_count": 2,
   "metadata": {},
   "outputs": [
    {
     "name": "stdout",
     "output_type": "stream",
     "text": [
      "2.5.0\n"
     ]
    }
   ],
   "source": [
    "print(tf.__version__)"
   ]
  },
  {
   "cell_type": "markdown",
   "metadata": {},
   "source": [
    "# Loading SIPI Dataset"
   ]
  },
  {
   "cell_type": "markdown",
   "metadata": {},
   "source": [
    "SIPI dataset was preprocessed using prepare_dataset notebook, so these three folders already contain Detritus/Non-Detritus images.\n",
    "\n",
    "Training: 70%\n",
    "Validation: 15%\n",
    "Testing: 15%"
   ]
  },
  {
   "cell_type": "code",
   "execution_count": 3,
   "metadata": {},
   "outputs": [],
   "source": [
    "DatasetName = 'Dataset-Detritus-Bubble'\n",
    "\n",
    "train_dir = DatasetName+'/train'\n",
    "validation_dir =  DatasetName+'/val'\n",
    "test_dir = DatasetName+'/test'\n",
    "\n",
    "test_all_class_dir = 'Dataset-Detritus-Bubble/test'\n",
    "train_all_class_dir = 'Dataset-Detritus-Bubble/train'\n",
    "val_all_class_dir = 'Dataset-Detritus-Bubble/val'"
   ]
  },
  {
   "cell_type": "code",
   "execution_count": 4,
   "metadata": {},
   "outputs": [],
   "source": [
    "BATCH_SIZE = 32\n",
    "IMG_SIZE = (160, 160)"
   ]
  },
  {
   "cell_type": "markdown",
   "metadata": {},
   "source": [
    "The three datasets are loaded using keras preprocessing method *image_dataset_from_directory*. Both the batch size and the image size hyperparameters where tested using different values. "
   ]
  },
  {
   "cell_type": "code",
   "execution_count": 5,
   "metadata": {
    "scrolled": true
   },
   "outputs": [
    {
     "name": "stdout",
     "output_type": "stream",
     "text": [
      "Found 38391 files belonging to 2 classes.\n"
     ]
    },
    {
     "name": "stderr",
     "output_type": "stream",
     "text": [
      "2022-06-09 11:13:51.357616: I tensorflow/stream_executor/platform/default/dso_loader.cc:53] Successfully opened dynamic library libcuda.so.1\n",
      "2022-06-09 11:13:52.191958: I tensorflow/core/common_runtime/gpu/gpu_device.cc:1733] Found device 0 with properties: \n",
      "pciBusID: 0000:02:00.0 name: NVIDIA GeForce GTX TITAN X computeCapability: 5.2\n",
      "coreClock: 1.076GHz coreCount: 24 deviceMemorySize: 11.92GiB deviceMemoryBandwidth: 313.37GiB/s\n",
      "2022-06-09 11:13:52.192718: I tensorflow/core/common_runtime/gpu/gpu_device.cc:1733] Found device 1 with properties: \n",
      "pciBusID: 0000:81:00.0 name: NVIDIA GeForce GTX TITAN X computeCapability: 5.2\n",
      "coreClock: 1.076GHz coreCount: 24 deviceMemorySize: 11.93GiB deviceMemoryBandwidth: 313.37GiB/s\n",
      "2022-06-09 11:13:52.192771: I tensorflow/stream_executor/platform/default/dso_loader.cc:53] Successfully opened dynamic library libcudart.so.11.0\n",
      "2022-06-09 11:13:52.197372: I tensorflow/stream_executor/platform/default/dso_loader.cc:53] Successfully opened dynamic library libcublas.so.11\n",
      "2022-06-09 11:13:52.197414: I tensorflow/stream_executor/platform/default/dso_loader.cc:53] Successfully opened dynamic library libcublasLt.so.11\n",
      "2022-06-09 11:13:52.199307: I tensorflow/stream_executor/platform/default/dso_loader.cc:53] Successfully opened dynamic library libcufft.so.10\n",
      "2022-06-09 11:13:52.200257: I tensorflow/stream_executor/platform/default/dso_loader.cc:53] Successfully opened dynamic library libcurand.so.10\n",
      "2022-06-09 11:13:52.203386: I tensorflow/stream_executor/platform/default/dso_loader.cc:53] Successfully opened dynamic library libcusolver.so.11\n",
      "2022-06-09 11:13:52.205098: I tensorflow/stream_executor/platform/default/dso_loader.cc:53] Successfully opened dynamic library libcusparse.so.11\n",
      "2022-06-09 11:13:52.205267: I tensorflow/stream_executor/platform/default/dso_loader.cc:53] Successfully opened dynamic library libcudnn.so.8\n",
      "2022-06-09 11:13:52.208220: I tensorflow/core/common_runtime/gpu/gpu_device.cc:1871] Adding visible gpu devices: 0, 1\n",
      "2022-06-09 11:13:52.211022: I tensorflow/core/platform/cpu_feature_guard.cc:142] This TensorFlow binary is optimized with oneAPI Deep Neural Network Library (oneDNN) to use the following CPU instructions in performance-critical operations:  AVX2 FMA\n",
      "To enable them in other operations, rebuild TensorFlow with the appropriate compiler flags.\n",
      "2022-06-09 11:13:52.403877: I tensorflow/core/common_runtime/gpu/gpu_device.cc:1733] Found device 0 with properties: \n",
      "pciBusID: 0000:02:00.0 name: NVIDIA GeForce GTX TITAN X computeCapability: 5.2\n",
      "coreClock: 1.076GHz coreCount: 24 deviceMemorySize: 11.92GiB deviceMemoryBandwidth: 313.37GiB/s\n",
      "2022-06-09 11:13:52.404634: I tensorflow/core/common_runtime/gpu/gpu_device.cc:1733] Found device 1 with properties: \n",
      "pciBusID: 0000:81:00.0 name: NVIDIA GeForce GTX TITAN X computeCapability: 5.2\n",
      "coreClock: 1.076GHz coreCount: 24 deviceMemorySize: 11.93GiB deviceMemoryBandwidth: 313.37GiB/s\n",
      "2022-06-09 11:13:52.407519: I tensorflow/core/common_runtime/gpu/gpu_device.cc:1871] Adding visible gpu devices: 0, 1\n",
      "2022-06-09 11:13:52.407574: I tensorflow/stream_executor/platform/default/dso_loader.cc:53] Successfully opened dynamic library libcudart.so.11.0\n",
      "2022-06-09 11:13:53.279731: I tensorflow/core/common_runtime/gpu/gpu_device.cc:1258] Device interconnect StreamExecutor with strength 1 edge matrix:\n",
      "2022-06-09 11:13:53.279769: I tensorflow/core/common_runtime/gpu/gpu_device.cc:1264]      0 1 \n",
      "2022-06-09 11:13:53.279778: I tensorflow/core/common_runtime/gpu/gpu_device.cc:1277] 0:   N N \n",
      "2022-06-09 11:13:53.279782: I tensorflow/core/common_runtime/gpu/gpu_device.cc:1277] 1:   N N \n",
      "2022-06-09 11:13:53.283509: I tensorflow/core/common_runtime/gpu/gpu_device.cc:1418] Created TensorFlow device (/job:localhost/replica:0/task:0/device:GPU:0 with 11487 MB memory) -> physical GPU (device: 0, name: NVIDIA GeForce GTX TITAN X, pci bus id: 0000:02:00.0, compute capability: 5.2)\n",
      "2022-06-09 11:13:53.284630: I tensorflow/core/common_runtime/gpu/gpu_device.cc:1418] Created TensorFlow device (/job:localhost/replica:0/task:0/device:GPU:1 with 11489 MB memory) -> physical GPU (device: 1, name: NVIDIA GeForce GTX TITAN X, pci bus id: 0000:81:00.0, compute capability: 5.2)\n"
     ]
    }
   ],
   "source": [
    "train_dataset = image_dataset_from_directory(train_dir,\n",
    "shuffle=True,\n",
    "batch_size=BATCH_SIZE,\n",
    "image_size=IMG_SIZE)"
   ]
  },
  {
   "cell_type": "code",
   "execution_count": 6,
   "metadata": {},
   "outputs": [
    {
     "name": "stdout",
     "output_type": "stream",
     "text": [
      "Found 8226 files belonging to 2 classes.\n",
      "Found 8227 files belonging to 2 classes.\n"
     ]
    }
   ],
   "source": [
    "validation_dataset = image_dataset_from_directory(validation_dir,\n",
    "shuffle=True,\n",
    "batch_size=BATCH_SIZE,\n",
    "image_size=IMG_SIZE)\n",
    "\n",
    "test_dataset = image_dataset_from_directory(test_dir,\n",
    "shuffle=True,\n",
    "batch_size=BATCH_SIZE,\n",
    "image_size=IMG_SIZE)"
   ]
  },
  {
   "cell_type": "markdown",
   "metadata": {},
   "source": [
    "# Training"
   ]
  },
  {
   "cell_type": "code",
   "execution_count": 7,
   "metadata": {},
   "outputs": [],
   "source": [
    "# Hyperparamers to be used in all models\n",
    "base_learning_rate = 0.0005\n",
    "IMG_SHAPE = IMG_SIZE + (3,)\n",
    "TRAINING_EPOCHS = 40"
   ]
  },
  {
   "cell_type": "code",
   "execution_count": 8,
   "metadata": {},
   "outputs": [],
   "source": [
    "def train_model(model, epochs):\n",
    "    print(\"Training model, epochs: \", epochs)\n",
    "    model.compile(optimizer=tf.keras.optimizers.Adam(learning_rate=base_learning_rate),\n",
    "              loss=tf.keras.losses.BinaryCrossentropy(from_logits=True),\n",
    "              metrics=['accuracy'])\n",
    "    \n",
    "    history = model.fit(train_dataset,\n",
    "                    epochs=epochs,\n",
    "                    validation_data=validation_dataset)\n",
    "    \n",
    "    acc = history.history['accuracy']\n",
    "    val_acc = history.history['val_accuracy']\n",
    "\n",
    "    training_loss = history.history['loss']\n",
    "    val_loss = history.history['val_loss']\n",
    "\n",
    "    loss, accuracy = model.evaluate(test_dataset)\n",
    "    print('Test accuracy :', accuracy)\n",
    "    \n",
    "    return acc, val_acc, training_loss, val_loss"
   ]
  },
  {
   "cell_type": "code",
   "execution_count": 9,
   "metadata": {},
   "outputs": [],
   "source": [
    "def show_plot(acc, val_acc, loss, val_loss):\n",
    "    plt.figure(figsize=(8, 8))\n",
    "    plt.subplot(2, 1, 1)\n",
    "    plt.plot(acc, label='Training Accuracy')\n",
    "    plt.plot(val_acc, label='Validation Accuracy')\n",
    "    plt.legend(loc='lower right')\n",
    "    plt.ylabel('Accuracy')\n",
    "    plt.ylim([min(plt.ylim()),1])\n",
    "    plt.title('Training and Validation Accuracy')\n",
    "\n",
    "    plt.subplot(2, 1, 2)\n",
    "    plt.plot(loss, label='Training Loss')\n",
    "    plt.plot(val_loss, label='Validation Loss')\n",
    "    plt.legend(loc='upper right')\n",
    "    plt.ylabel('Cross Entropy')\n",
    "    plt.ylim([0,1.0])\n",
    "    plt.title('Training and Validation Loss')\n",
    "    plt.xlabel('epoch')\n",
    "    plt.show()"
   ]
  },
  {
   "cell_type": "markdown",
   "metadata": {},
   "source": [
    "# Data Augmentation"
   ]
  },
  {
   "cell_type": "code",
   "execution_count": 10,
   "metadata": {},
   "outputs": [],
   "source": [
    "data_augmentation = tf.keras.Sequential([\n",
    "tf.keras.layers.experimental.preprocessing.RandomFlip('horizontal_and_vertical'),\n",
    "tf.keras.layers.experimental.preprocessing.RandomRotation(0.2),\n",
    "])"
   ]
  },
  {
   "cell_type": "markdown",
   "metadata": {},
   "source": [
    "# Custom CNN model"
   ]
  },
  {
   "cell_type": "code",
   "execution_count": 11,
   "metadata": {},
   "outputs": [],
   "source": [
    "def get_model_A(drop_value=0.0, data_aug=False, l2_reg=0.0):\n",
    "    inputs = tf.keras.Input(shape=(160, 160, 3))\n",
    "    \n",
    "    if data_aug:\n",
    "        dag = data_augmentation(inputs)\n",
    "        processed_input =  tf.keras.applications.densenet.preprocess_input(dag)\n",
    "    else:\n",
    "        processed_input =  tf.keras.applications.densenet.preprocess_input(inputs)\n",
    "    \n",
    "    conv = keras.layers.Conv2D(filters=16, activation='relu', kernel_size=3)(processed_input)\n",
    "    pool = keras.layers.MaxPooling2D(2,2)(conv)\n",
    "\n",
    "    conv = keras.layers.Conv2D(filters=32, activation='relu', kernel_size=3)(pool)\n",
    "    pool = keras.layers.MaxPooling2D(2,2)(conv)\n",
    "\n",
    "    conv = keras.layers.Conv2D(filters=64, activation='relu', kernel_size=3)(pool)\n",
    "    pool = keras.layers.MaxPooling2D(2,2)(conv)\n",
    "\n",
    "    conv = keras.layers.Conv2D(filters=64, activation='relu', kernel_size=3)(pool)\n",
    "    pool = keras.layers.MaxPooling2D(2,2)(conv)\n",
    "\n",
    "    conv = keras.layers.Conv2D(filters=64, activation='relu', kernel_size=3)(pool)\n",
    "    pool = keras.layers.MaxPooling2D(2,2)(conv)\n",
    "    \n",
    "    gal = keras.layers.Flatten()(pool)\n",
    "    \n",
    "    x = keras.layers.Dense(512)(gal)\n",
    "    \n",
    "    \n",
    "    if drop_value > 0:\n",
    "        x = keras.layers.Dropout(drop_value)(x)\n",
    "    \n",
    "    if l2_reg > 0:\n",
    "        x = keras.layers.Dense(1, kernel_regularizer=regularizers.l2(l2_reg),\n",
    "                bias_regularizer=regularizers.l2(l2_reg),\n",
    "                activity_regularizer=regularizers.l2(l2_reg))(x)\n",
    "    else:\n",
    "        x = keras.layers.Dense(1)(x)\n",
    "    return keras.Model(inputs, x)"
   ]
  },
  {
   "cell_type": "markdown",
   "metadata": {},
   "source": [
    "Training from scratch"
   ]
  },
  {
   "cell_type": "code",
   "execution_count": 12,
   "metadata": {},
   "outputs": [
    {
     "name": "stdout",
     "output_type": "stream",
     "text": [
      "Training model, epochs:  40\n",
      "Epoch 1/40\n"
     ]
    },
    {
     "name": "stderr",
     "output_type": "stream",
     "text": [
      "2022-06-09 11:13:54.894247: I tensorflow/compiler/mlir/mlir_graph_optimization_pass.cc:176] None of the MLIR Optimization Passes are enabled (registered 2)\n",
      "2022-06-09 11:13:54.917089: I tensorflow/core/platform/profile_utils/cpu_utils.cc:114] CPU Frequency: 2099915000 Hz\n",
      "2022-06-09 11:13:55.087183: I tensorflow/stream_executor/platform/default/dso_loader.cc:53] Successfully opened dynamic library libcudnn.so.8\n",
      "2022-06-09 11:13:55.544157: I tensorflow/stream_executor/cuda/cuda_dnn.cc:359] Loaded cuDNN version 8302\n",
      "2022-06-09 11:13:56.226357: I tensorflow/stream_executor/platform/default/dso_loader.cc:53] Successfully opened dynamic library libcublas.so.11\n",
      "2022-06-09 11:13:56.227270: I tensorflow/stream_executor/platform/default/dso_loader.cc:53] Successfully opened dynamic library libcublasLt.so.11\n"
     ]
    },
    {
     "name": "stdout",
     "output_type": "stream",
     "text": [
      "1200/1200 [==============================] - 31s 24ms/step - loss: 0.3290 - accuracy: 0.8478 - val_loss: 0.2753 - val_accuracy: 0.8851\n",
      "Epoch 2/40\n",
      "1200/1200 [==============================] - 27s 23ms/step - loss: 0.2475 - accuracy: 0.8928 - val_loss: 0.2449 - val_accuracy: 0.9139\n",
      "Epoch 3/40\n",
      "1200/1200 [==============================] - 27s 23ms/step - loss: 0.2054 - accuracy: 0.9154 - val_loss: 0.2156 - val_accuracy: 0.9139\n",
      "Epoch 4/40\n",
      "1200/1200 [==============================] - 27s 23ms/step - loss: 0.1804 - accuracy: 0.9263 - val_loss: 0.2148 - val_accuracy: 0.9260\n",
      "Epoch 5/40\n",
      "1200/1200 [==============================] - 28s 23ms/step - loss: 0.1577 - accuracy: 0.9367 - val_loss: 0.2134 - val_accuracy: 0.9295\n",
      "Epoch 6/40\n",
      "1200/1200 [==============================] - 27s 23ms/step - loss: 0.1329 - accuracy: 0.9459 - val_loss: 0.2411 - val_accuracy: 0.9188\n",
      "Epoch 7/40\n",
      "1200/1200 [==============================] - 27s 23ms/step - loss: 0.1131 - accuracy: 0.9535 - val_loss: 0.2599 - val_accuracy: 0.9204\n",
      "Epoch 8/40\n",
      "1200/1200 [==============================] - 27s 23ms/step - loss: 0.0964 - accuracy: 0.9613 - val_loss: 0.2810 - val_accuracy: 0.9204\n",
      "Epoch 9/40\n",
      "1200/1200 [==============================] - 27s 23ms/step - loss: 0.0817 - accuracy: 0.9681 - val_loss: 0.2923 - val_accuracy: 0.9234\n",
      "Epoch 10/40\n",
      "1200/1200 [==============================] - 27s 23ms/step - loss: 0.0679 - accuracy: 0.9739 - val_loss: 0.3298 - val_accuracy: 0.9195\n",
      "Epoch 11/40\n",
      "1200/1200 [==============================] - 27s 23ms/step - loss: 0.0605 - accuracy: 0.9764 - val_loss: 0.4419 - val_accuracy: 0.9166\n",
      "Epoch 12/40\n",
      "1200/1200 [==============================] - 27s 23ms/step - loss: 0.0588 - accuracy: 0.9771 - val_loss: 0.3979 - val_accuracy: 0.9172\n",
      "Epoch 13/40\n",
      "1200/1200 [==============================] - 27s 23ms/step - loss: 0.0484 - accuracy: 0.9820 - val_loss: 0.4238 - val_accuracy: 0.9172\n",
      "Epoch 14/40\n",
      "1200/1200 [==============================] - 27s 23ms/step - loss: 0.0446 - accuracy: 0.9823 - val_loss: 0.4123 - val_accuracy: 0.9184\n",
      "Epoch 15/40\n",
      "1200/1200 [==============================] - 28s 23ms/step - loss: 0.0420 - accuracy: 0.9843 - val_loss: 0.3848 - val_accuracy: 0.9205\n",
      "Epoch 16/40\n",
      "1200/1200 [==============================] - 27s 23ms/step - loss: 0.0351 - accuracy: 0.9867 - val_loss: 0.4626 - val_accuracy: 0.9194\n",
      "Epoch 17/40\n",
      "1200/1200 [==============================] - 27s 23ms/step - loss: 0.0353 - accuracy: 0.9873 - val_loss: 0.4140 - val_accuracy: 0.9278\n",
      "Epoch 18/40\n",
      "1200/1200 [==============================] - 27s 23ms/step - loss: 0.0331 - accuracy: 0.9877 - val_loss: 0.4716 - val_accuracy: 0.9179\n",
      "Epoch 19/40\n",
      "1200/1200 [==============================] - 28s 23ms/step - loss: 0.0314 - accuracy: 0.9878 - val_loss: 0.4210 - val_accuracy: 0.9222\n",
      "Epoch 20/40\n",
      "1200/1200 [==============================] - 27s 23ms/step - loss: 0.0303 - accuracy: 0.9887 - val_loss: 0.4764 - val_accuracy: 0.9200\n",
      "Epoch 21/40\n",
      "1200/1200 [==============================] - 27s 22ms/step - loss: 0.0270 - accuracy: 0.9893 - val_loss: 0.4875 - val_accuracy: 0.9150\n",
      "Epoch 22/40\n",
      "1200/1200 [==============================] - 27s 23ms/step - loss: 0.0273 - accuracy: 0.9900 - val_loss: 0.5131 - val_accuracy: 0.9239\n",
      "Epoch 23/40\n",
      "1200/1200 [==============================] - 27s 23ms/step - loss: 0.0260 - accuracy: 0.9909 - val_loss: 0.5572 - val_accuracy: 0.9204\n",
      "Epoch 24/40\n",
      "1200/1200 [==============================] - 27s 22ms/step - loss: 0.0236 - accuracy: 0.9909 - val_loss: 0.5042 - val_accuracy: 0.9241\n",
      "Epoch 25/40\n",
      "1200/1200 [==============================] - 27s 23ms/step - loss: 0.0205 - accuracy: 0.9925 - val_loss: 0.4967 - val_accuracy: 0.9177\n",
      "Epoch 26/40\n",
      "1200/1200 [==============================] - 27s 23ms/step - loss: 0.0227 - accuracy: 0.9922 - val_loss: 0.4564 - val_accuracy: 0.9223\n",
      "Epoch 27/40\n",
      "1200/1200 [==============================] - 27s 23ms/step - loss: 0.0217 - accuracy: 0.9916 - val_loss: 0.5579 - val_accuracy: 0.9206\n",
      "Epoch 28/40\n",
      "1200/1200 [==============================] - 27s 23ms/step - loss: 0.0205 - accuracy: 0.9927 - val_loss: 0.6152 - val_accuracy: 0.9203\n",
      "Epoch 29/40\n",
      "1200/1200 [==============================] - 28s 23ms/step - loss: 0.0200 - accuracy: 0.9927 - val_loss: 0.6369 - val_accuracy: 0.9240\n",
      "Epoch 30/40\n",
      "1200/1200 [==============================] - 27s 23ms/step - loss: 0.0219 - accuracy: 0.9918 - val_loss: 0.5328 - val_accuracy: 0.9189\n",
      "Epoch 31/40\n",
      "1200/1200 [==============================] - 27s 22ms/step - loss: 0.0204 - accuracy: 0.9926 - val_loss: 0.5472 - val_accuracy: 0.9210\n",
      "Epoch 32/40\n",
      "1200/1200 [==============================] - 27s 22ms/step - loss: 0.0181 - accuracy: 0.9939 - val_loss: 0.4791 - val_accuracy: 0.9200\n",
      "Epoch 33/40\n",
      "1200/1200 [==============================] - 27s 22ms/step - loss: 0.0161 - accuracy: 0.9943 - val_loss: 0.5962 - val_accuracy: 0.9230\n",
      "Epoch 34/40\n",
      "1200/1200 [==============================] - 27s 23ms/step - loss: 0.0164 - accuracy: 0.9941 - val_loss: 0.6097 - val_accuracy: 0.9194\n",
      "Epoch 35/40\n",
      "1200/1200 [==============================] - 27s 23ms/step - loss: 0.0172 - accuracy: 0.9939 - val_loss: 0.6696 - val_accuracy: 0.9205\n",
      "Epoch 36/40\n",
      "1200/1200 [==============================] - 27s 22ms/step - loss: 0.0159 - accuracy: 0.9944 - val_loss: 0.6316 - val_accuracy: 0.9258\n",
      "Epoch 37/40\n",
      "1200/1200 [==============================] - 27s 22ms/step - loss: 0.0168 - accuracy: 0.9946 - val_loss: 0.5549 - val_accuracy: 0.9220\n",
      "Epoch 38/40\n",
      "1200/1200 [==============================] - 27s 22ms/step - loss: 0.0182 - accuracy: 0.9931 - val_loss: 0.5920 - val_accuracy: 0.9229\n",
      "Epoch 39/40\n",
      "1200/1200 [==============================] - 27s 22ms/step - loss: 0.0154 - accuracy: 0.9944 - val_loss: 0.5971 - val_accuracy: 0.9258\n",
      "Epoch 40/40\n",
      "1200/1200 [==============================] - 27s 22ms/step - loss: 0.0138 - accuracy: 0.9950 - val_loss: 0.5908 - val_accuracy: 0.9250\n",
      "258/258 [==============================] - 3s 12ms/step - loss: 0.5373 - accuracy: 0.9259\n",
      "Test accuracy : 0.9258539080619812\n"
     ]
    },
    {
     "data": {
      "image/png": "[encoded data removed]",
      "text/plain": [
       "<Figure size 576x576 with 2 Axes>"
      ]
     },
     "metadata": {
      "needs_background": "light"
     },
     "output_type": "display_data"
    }
   ],
   "source": [
    "acc, val_acc, loss, val_loss = train_model(get_model_A(0.0, False, 0.0), TRAINING_EPOCHS)\n",
    "show_plot(acc, val_acc, loss, val_loss)"
   ]
  },
  {
   "cell_type": "markdown",
   "metadata": {},
   "source": [
    "Training with Data Augmentation"
   ]
  },
  {
   "cell_type": "code",
   "execution_count": 13,
   "metadata": {},
   "outputs": [
    {
     "name": "stdout",
     "output_type": "stream",
     "text": [
      "Training model, epochs:  40\n",
      "Epoch 1/40\n",
      "1200/1200 [==============================] - 32s 26ms/step - loss: 0.3231 - accuracy: 0.8490 - val_loss: 0.2877 - val_accuracy: 0.8411\n",
      "Epoch 2/40\n",
      "1200/1200 [==============================] - 31s 26ms/step - loss: 0.2470 - accuracy: 0.8933 - val_loss: 0.2339 - val_accuracy: 0.9120\n",
      "Epoch 3/40\n",
      "1200/1200 [==============================] - 31s 26ms/step - loss: 0.2208 - accuracy: 0.9079 - val_loss: 0.2244 - val_accuracy: 0.9023\n",
      "Epoch 4/40\n",
      "1200/1200 [==============================] - 30s 25ms/step - loss: 0.2082 - accuracy: 0.9143 - val_loss: 0.2139 - val_accuracy: 0.9203\n",
      "Epoch 5/40\n",
      "1200/1200 [==============================] - 31s 26ms/step - loss: 0.1985 - accuracy: 0.9196 - val_loss: 0.2114 - val_accuracy: 0.9088\n",
      "Epoch 6/40\n",
      "1200/1200 [==============================] - 31s 26ms/step - loss: 0.1918 - accuracy: 0.9223 - val_loss: 0.2111 - val_accuracy: 0.9296\n",
      "Epoch 7/40\n",
      "1200/1200 [==============================] - 31s 26ms/step - loss: 0.1846 - accuracy: 0.9268 - val_loss: 0.2319 - val_accuracy: 0.9049\n",
      "Epoch 8/40\n",
      "1200/1200 [==============================] - 30s 25ms/step - loss: 0.1824 - accuracy: 0.9264 - val_loss: 0.1951 - val_accuracy: 0.9305\n",
      "Epoch 9/40\n",
      "1200/1200 [==============================] - 30s 25ms/step - loss: 0.1781 - accuracy: 0.9281 - val_loss: 0.2165 - val_accuracy: 0.9205\n",
      "Epoch 10/40\n",
      "1200/1200 [==============================] - 30s 25ms/step - loss: 0.1744 - accuracy: 0.9306 - val_loss: 0.1927 - val_accuracy: 0.9226\n",
      "Epoch 11/40\n",
      "1200/1200 [==============================] - 30s 25ms/step - loss: 0.1724 - accuracy: 0.9316 - val_loss: 0.1858 - val_accuracy: 0.9335\n",
      "Epoch 12/40\n",
      "1200/1200 [==============================] - 30s 25ms/step - loss: 0.1671 - accuracy: 0.9343 - val_loss: 0.1864 - val_accuracy: 0.9268\n",
      "Epoch 13/40\n",
      "1200/1200 [==============================] - 30s 25ms/step - loss: 0.1687 - accuracy: 0.9334 - val_loss: 0.1773 - val_accuracy: 0.9288\n",
      "Epoch 14/40\n",
      "1200/1200 [==============================] - 30s 25ms/step - loss: 0.1632 - accuracy: 0.9356 - val_loss: 0.1808 - val_accuracy: 0.9342\n",
      "Epoch 15/40\n",
      "1200/1200 [==============================] - 30s 25ms/step - loss: 0.1632 - accuracy: 0.9365 - val_loss: 0.1840 - val_accuracy: 0.9368\n",
      "Epoch 16/40\n",
      "1200/1200 [==============================] - 30s 25ms/step - loss: 0.1594 - accuracy: 0.9361 - val_loss: 0.1755 - val_accuracy: 0.9269\n",
      "Epoch 17/40\n",
      "1200/1200 [==============================] - 30s 25ms/step - loss: 0.1593 - accuracy: 0.9378 - val_loss: 0.1830 - val_accuracy: 0.9217\n",
      "Epoch 18/40\n",
      "1200/1200 [==============================] - 31s 26ms/step - loss: 0.1577 - accuracy: 0.9385 - val_loss: 0.1746 - val_accuracy: 0.9329\n",
      "Epoch 19/40\n",
      "1200/1200 [==============================] - 30s 25ms/step - loss: 0.1548 - accuracy: 0.9392 - val_loss: 0.1882 - val_accuracy: 0.9384\n",
      "Epoch 20/40\n",
      "1200/1200 [==============================] - 31s 26ms/step - loss: 0.1544 - accuracy: 0.9402 - val_loss: 0.1738 - val_accuracy: 0.9330\n",
      "Epoch 21/40\n",
      "1200/1200 [==============================] - 30s 25ms/step - loss: 0.1529 - accuracy: 0.9400 - val_loss: 0.1751 - val_accuracy: 0.9251\n",
      "Epoch 22/40\n",
      "1200/1200 [==============================] - 31s 26ms/step - loss: 0.1521 - accuracy: 0.9409 - val_loss: 0.1851 - val_accuracy: 0.9306\n",
      "Epoch 23/40\n",
      "1200/1200 [==============================] - 31s 26ms/step - loss: 0.1518 - accuracy: 0.9402 - val_loss: 0.1778 - val_accuracy: 0.9364\n",
      "Epoch 24/40\n",
      "1200/1200 [==============================] - 30s 25ms/step - loss: 0.1512 - accuracy: 0.9419 - val_loss: 0.1801 - val_accuracy: 0.9378\n",
      "Epoch 25/40\n",
      "1200/1200 [==============================] - 30s 25ms/step - loss: 0.1499 - accuracy: 0.9426 - val_loss: 0.1716 - val_accuracy: 0.9329\n",
      "Epoch 26/40\n",
      "1200/1200 [==============================] - 31s 26ms/step - loss: 0.1480 - accuracy: 0.9429 - val_loss: 0.1624 - val_accuracy: 0.9382\n",
      "Epoch 27/40\n",
      "1200/1200 [==============================] - 30s 25ms/step - loss: 0.1464 - accuracy: 0.9445 - val_loss: 0.1742 - val_accuracy: 0.9367\n",
      "Epoch 28/40\n",
      "1200/1200 [==============================] - 30s 25ms/step - loss: 0.1472 - accuracy: 0.9425 - val_loss: 0.1700 - val_accuracy: 0.9379\n",
      "Epoch 29/40\n",
      "1200/1200 [==============================] - 31s 26ms/step - loss: 0.1448 - accuracy: 0.9442 - val_loss: 0.1712 - val_accuracy: 0.9398\n",
      "Epoch 30/40\n",
      "1200/1200 [==============================] - 31s 26ms/step - loss: 0.1448 - accuracy: 0.9444 - val_loss: 0.1666 - val_accuracy: 0.9334\n",
      "Epoch 31/40\n",
      "1200/1200 [==============================] - 31s 26ms/step - loss: 0.1434 - accuracy: 0.9453 - val_loss: 0.1623 - val_accuracy: 0.9409\n",
      "Epoch 32/40\n",
      "1200/1200 [==============================] - 30s 25ms/step - loss: 0.1424 - accuracy: 0.9453 - val_loss: 0.1666 - val_accuracy: 0.9403\n",
      "Epoch 33/40\n",
      "1200/1200 [==============================] - 30s 25ms/step - loss: 0.1417 - accuracy: 0.9450 - val_loss: 0.1633 - val_accuracy: 0.9410\n",
      "Epoch 34/40\n",
      "1200/1200 [==============================] - 31s 25ms/step - loss: 0.1406 - accuracy: 0.9464 - val_loss: 0.1687 - val_accuracy: 0.9436\n",
      "Epoch 35/40\n",
      "1200/1200 [==============================] - 30s 25ms/step - loss: 0.1396 - accuracy: 0.9463 - val_loss: 0.1591 - val_accuracy: 0.9362\n",
      "Epoch 36/40\n",
      "1200/1200 [==============================] - 31s 26ms/step - loss: 0.1410 - accuracy: 0.9450 - val_loss: 0.1687 - val_accuracy: 0.9406\n",
      "Epoch 37/40\n",
      "1200/1200 [==============================] - 30s 25ms/step - loss: 0.1388 - accuracy: 0.9469 - val_loss: 0.1609 - val_accuracy: 0.9389\n",
      "Epoch 38/40\n",
      "1200/1200 [==============================] - 31s 26ms/step - loss: 0.1395 - accuracy: 0.9460 - val_loss: 0.1629 - val_accuracy: 0.9346\n",
      "Epoch 39/40\n",
      "1200/1200 [==============================] - 31s 26ms/step - loss: 0.1370 - accuracy: 0.9463 - val_loss: 0.1622 - val_accuracy: 0.9363\n",
      "Epoch 40/40\n",
      "1200/1200 [==============================] - 31s 26ms/step - loss: 0.1380 - accuracy: 0.9457 - val_loss: 0.1643 - val_accuracy: 0.9359\n",
      "258/258 [==============================] - 3s 13ms/step - loss: 0.1561 - accuracy: 0.9404\n",
      "Test accuracy : 0.9404399991035461\n"
     ]
    },
    {
     "data": {
      "image/png": "[encoded data removed]",
      "text/plain": [
       "<Figure size 576x576 with 2 Axes>"
      ]
     },
     "metadata": {
      "needs_background": "light"
     },
     "output_type": "display_data"
    }
   ],
   "source": [
    "acc, val_acc, loss, val_loss = train_model(get_model_A(0.0, True, 0.0), TRAINING_EPOCHS)\n",
    "show_plot(acc, val_acc, loss, val_loss)"
   ]
  },
  {
   "cell_type": "markdown",
   "metadata": {},
   "source": [
    "# MobileNetV2 Model From Scratch"
   ]
  },
  {
   "cell_type": "code",
   "execution_count": 14,
   "metadata": {},
   "outputs": [],
   "source": [
    "def get_mobile_net(drop_value=0.0, data_aug=False, l2_reg=0.0):\n",
    "    inputs = tf.keras.Input(shape=(160, 160, 3))\n",
    "    \n",
    "    if data_aug:\n",
    "        dag = data_augmentation(inputs)\n",
    "        processed_input =  tf.keras.applications.mobilenet_v2.preprocess_input(dag)\n",
    "    else:\n",
    "        processed_input =  tf.keras.applications.mobilenet_v2.preprocess_input(inputs)\n",
    "    \n",
    "    base_model = tf.keras.applications.MobileNetV2(input_shape=IMG_SHAPE,\n",
    "                                               include_top=False,\n",
    "                                               weights=None)\n",
    "    \n",
    "    x = base_model(processed_input)\n",
    "    \n",
    "    global_average_layer = tf.keras.layers.GlobalAveragePooling2D()\n",
    "    \n",
    "    x = global_average_layer(x)\n",
    "    \n",
    "    if drop_value > 0:\n",
    "        x = keras.layers.Dropout(drop_value)(x)\n",
    "    \n",
    "    if l2_reg > 0:\n",
    "        x = keras.layers.Dense(1, kernel_regularizer=regularizers.l2(l2_reg),\n",
    "                bias_regularizer=regularizers.l2(l2_reg),\n",
    "                activity_regularizer=regularizers.l2(l2_reg))(x)\n",
    "    else:\n",
    "        x = keras.layers.Dense(1)(x)\n",
    "    return keras.Model(inputs, x)"
   ]
  },
  {
   "cell_type": "code",
   "execution_count": 15,
   "metadata": {},
   "outputs": [
    {
     "name": "stdout",
     "output_type": "stream",
     "text": [
      "Training model, epochs:  40\n",
      "Epoch 1/40\n",
      "1200/1200 [==============================] - 188s 153ms/step - loss: 0.3491 - accuracy: 0.8395 - val_loss: 1.7700 - val_accuracy: 0.4639\n",
      "Epoch 2/40\n",
      "1200/1200 [==============================] - 182s 152ms/step - loss: 0.2458 - accuracy: 0.8931 - val_loss: 1.8233 - val_accuracy: 0.4639\n",
      "Epoch 3/40\n",
      "1200/1200 [==============================] - 182s 151ms/step - loss: 0.2105 - accuracy: 0.9129 - val_loss: 2.2863 - val_accuracy: 0.4639\n",
      "Epoch 4/40\n",
      "1200/1200 [==============================] - 182s 151ms/step - loss: 0.1953 - accuracy: 0.9203 - val_loss: 4.4936 - val_accuracy: 0.4639\n",
      "Epoch 5/40\n",
      "1200/1200 [==============================] - 182s 152ms/step - loss: 0.1770 - accuracy: 0.9294 - val_loss: 0.2690 - val_accuracy: 0.8944\n",
      "Epoch 6/40\n",
      "1200/1200 [==============================] - 183s 153ms/step - loss: 0.1620 - accuracy: 0.9361 - val_loss: 1.6014 - val_accuracy: 0.6437\n",
      "Epoch 7/40\n",
      "1200/1200 [==============================] - 183s 153ms/step - loss: 0.1491 - accuracy: 0.9408 - val_loss: 2.5388 - val_accuracy: 0.5863\n",
      "Epoch 8/40\n",
      "1200/1200 [==============================] - 182s 151ms/step - loss: 0.1363 - accuracy: 0.9470 - val_loss: 1.3049 - val_accuracy: 0.6892\n",
      "Epoch 9/40\n",
      "1200/1200 [==============================] - 183s 152ms/step - loss: 0.1246 - accuracy: 0.9518 - val_loss: 2.6373 - val_accuracy: 0.6162\n",
      "Epoch 10/40\n",
      "1200/1200 [==============================] - 183s 152ms/step - loss: 0.1121 - accuracy: 0.9574 - val_loss: 0.8101 - val_accuracy: 0.8090\n",
      "Epoch 11/40\n",
      "1200/1200 [==============================] - 183s 152ms/step - loss: 0.1019 - accuracy: 0.9608 - val_loss: 1.2574 - val_accuracy: 0.7481\n",
      "Epoch 12/40\n",
      "1200/1200 [==============================] - 183s 152ms/step - loss: 0.0912 - accuracy: 0.9660 - val_loss: 1.2766 - val_accuracy: 0.7332\n",
      "Epoch 13/40\n",
      "1200/1200 [==============================] - 183s 152ms/step - loss: 0.0816 - accuracy: 0.9685 - val_loss: 0.7984 - val_accuracy: 0.8335\n",
      "Epoch 14/40\n",
      "1200/1200 [==============================] - 181s 151ms/step - loss: 0.0731 - accuracy: 0.9713 - val_loss: 1.3763 - val_accuracy: 0.7661\n",
      "Epoch 15/40\n",
      "1200/1200 [==============================] - 182s 152ms/step - loss: 0.0690 - accuracy: 0.9746 - val_loss: 1.0806 - val_accuracy: 0.8087\n",
      "Epoch 16/40\n",
      "1200/1200 [==============================] - 183s 153ms/step - loss: 0.0597 - accuracy: 0.9767 - val_loss: 0.8862 - val_accuracy: 0.8468\n",
      "Epoch 17/40\n",
      "1200/1200 [==============================] - 183s 153ms/step - loss: 0.0568 - accuracy: 0.9782 - val_loss: 1.8117 - val_accuracy: 0.7260\n",
      "Epoch 18/40\n",
      "1200/1200 [==============================] - 182s 151ms/step - loss: 0.0536 - accuracy: 0.9785 - val_loss: 0.8203 - val_accuracy: 0.8476\n",
      "Epoch 19/40\n",
      "1200/1200 [==============================] - 183s 152ms/step - loss: 0.0472 - accuracy: 0.9824 - val_loss: 0.6474 - val_accuracy: 0.8698\n",
      "Epoch 20/40\n",
      "1200/1200 [==============================] - 182s 152ms/step - loss: 0.0470 - accuracy: 0.9818 - val_loss: 0.5004 - val_accuracy: 0.8936\n",
      "Epoch 21/40\n",
      "1200/1200 [==============================] - 183s 152ms/step - loss: 0.0425 - accuracy: 0.9838 - val_loss: 0.5428 - val_accuracy: 0.8854\n",
      "Epoch 22/40\n",
      "1200/1200 [==============================] - 181s 151ms/step - loss: 0.0394 - accuracy: 0.9853 - val_loss: 0.4207 - val_accuracy: 0.9085\n",
      "Epoch 23/40\n",
      "1200/1200 [==============================] - 182s 152ms/step - loss: 0.0400 - accuracy: 0.9847 - val_loss: 0.4645 - val_accuracy: 0.8990\n",
      "Epoch 24/40\n",
      "1200/1200 [==============================] - 183s 153ms/step - loss: 0.0378 - accuracy: 0.9853 - val_loss: 0.5818 - val_accuracy: 0.8724\n",
      "Epoch 25/40\n",
      "1200/1200 [==============================] - 181s 151ms/step - loss: 0.0338 - accuracy: 0.9877 - val_loss: 0.7104 - val_accuracy: 0.8871\n",
      "Epoch 26/40\n",
      "1200/1200 [==============================] - 182s 152ms/step - loss: 0.0325 - accuracy: 0.9876 - val_loss: 0.5067 - val_accuracy: 0.9091\n",
      "Epoch 27/40\n",
      "1200/1200 [==============================] - 183s 152ms/step - loss: 0.0331 - accuracy: 0.9870 - val_loss: 0.4165 - val_accuracy: 0.9086\n",
      "Epoch 28/40\n",
      "1200/1200 [==============================] - 183s 152ms/step - loss: 0.0322 - accuracy: 0.9877 - val_loss: 0.6497 - val_accuracy: 0.8877\n",
      "Epoch 29/40\n",
      "1200/1200 [==============================] - 183s 153ms/step - loss: 0.0302 - accuracy: 0.9884 - val_loss: 0.4680 - val_accuracy: 0.8976\n",
      "Epoch 30/40\n",
      "1200/1200 [==============================] - 182s 152ms/step - loss: 0.0287 - accuracy: 0.9893 - val_loss: 0.6237 - val_accuracy: 0.9023\n",
      "Epoch 31/40\n",
      "1200/1200 [==============================] - 183s 152ms/step - loss: 0.0277 - accuracy: 0.9900 - val_loss: 0.4753 - val_accuracy: 0.9159\n",
      "Epoch 32/40\n",
      "1200/1200 [==============================] - 182s 151ms/step - loss: 0.0278 - accuracy: 0.9895 - val_loss: 0.6134 - val_accuracy: 0.8942\n",
      "Epoch 33/40\n",
      "1200/1200 [==============================] - 181s 151ms/step - loss: 0.0254 - accuracy: 0.9902 - val_loss: 0.5867 - val_accuracy: 0.8924\n",
      "Epoch 34/40\n",
      "1200/1200 [==============================] - 182s 152ms/step - loss: 0.0239 - accuracy: 0.9910 - val_loss: 0.3714 - val_accuracy: 0.9227\n",
      "Epoch 35/40\n",
      "1200/1200 [==============================] - 182s 152ms/step - loss: 0.0243 - accuracy: 0.9910 - val_loss: 0.5478 - val_accuracy: 0.8865\n",
      "Epoch 36/40\n",
      "1200/1200 [==============================] - 182s 152ms/step - loss: 0.0231 - accuracy: 0.9912 - val_loss: 0.4312 - val_accuracy: 0.9099\n",
      "Epoch 37/40\n",
      "1200/1200 [==============================] - 183s 152ms/step - loss: 0.0231 - accuracy: 0.9912 - val_loss: 0.3924 - val_accuracy: 0.9260\n",
      "Epoch 38/40\n",
      "1200/1200 [==============================] - 183s 152ms/step - loss: 0.0207 - accuracy: 0.9925 - val_loss: 0.4200 - val_accuracy: 0.9139\n",
      "Epoch 39/40\n",
      "1200/1200 [==============================] - 183s 153ms/step - loss: 0.0234 - accuracy: 0.9911 - val_loss: 0.3459 - val_accuracy: 0.9229\n",
      "Epoch 40/40\n",
      "1200/1200 [==============================] - 182s 151ms/step - loss: 0.0220 - accuracy: 0.9913 - val_loss: 0.4664 - val_accuracy: 0.9216\n",
      "258/258 [==============================] - 7s 29ms/step - loss: 0.4793 - accuracy: 0.9221\n",
      "Test accuracy : 0.9220858216285706\n"
     ]
    },
    {
     "data": {
      "image/png": "[encoded data removed]",
      "text/plain": [
       "<Figure size 576x576 with 2 Axes>"
      ]
     },
     "metadata": {
      "needs_background": "light"
     },
     "output_type": "display_data"
    }
   ],
   "source": [
    "acc, val_acc, loss, val_loss = train_model(get_mobile_net(0.0, False, 0.0), TRAINING_EPOCHS)\n",
    "show_plot(acc, val_acc, loss, val_loss)"
   ]
  },
  {
   "cell_type": "code",
   "execution_count": null,
   "metadata": {},
   "outputs": [
    {
     "name": "stdout",
     "output_type": "stream",
     "text": [
      "Training model, epochs:  40\n",
      "Epoch 1/40\n",
      "1200/1200 [==============================] - 190s 155ms/step - loss: 0.3442 - accuracy: 0.8419 - val_loss: 1.2455 - val_accuracy: 0.4639\n",
      "Epoch 2/40\n",
      "1200/1200 [==============================] - 185s 154ms/step - loss: 0.2554 - accuracy: 0.8891 - val_loss: 1.4934 - val_accuracy: 0.4639\n",
      "Epoch 3/40\n",
      "1200/1200 [==============================] - 186s 155ms/step - loss: 0.2334 - accuracy: 0.9013 - val_loss: 2.4333 - val_accuracy: 0.4639\n",
      "Epoch 4/40\n",
      "1200/1200 [==============================] - 185s 154ms/step - loss: 0.2174 - accuracy: 0.9103 - val_loss: 4.3658 - val_accuracy: 0.4639\n",
      "Epoch 5/40\n",
      "1200/1200 [==============================] - 186s 155ms/step - loss: 0.2073 - accuracy: 0.9158 - val_loss: 0.2469 - val_accuracy: 0.9265\n",
      "Epoch 6/40\n",
      "1200/1200 [==============================] - 185s 155ms/step - loss: 0.1975 - accuracy: 0.9206 - val_loss: 2.0572 - val_accuracy: 0.6123\n",
      "Epoch 7/40\n",
      "1200/1200 [==============================] - 186s 155ms/step - loss: 0.1909 - accuracy: 0.9237 - val_loss: 5.4861 - val_accuracy: 0.5361\n",
      "Epoch 8/40\n",
      "1200/1200 [==============================] - 186s 155ms/step - loss: 0.1830 - accuracy: 0.9283 - val_loss: 3.0620 - val_accuracy: 0.5616\n",
      "Epoch 9/40\n",
      "1200/1200 [==============================] - 186s 155ms/step - loss: 0.1743 - accuracy: 0.9315 - val_loss: 1.4921 - val_accuracy: 0.6955\n",
      "Epoch 10/40\n",
      "1200/1200 [==============================] - 186s 155ms/step - loss: 0.1673 - accuracy: 0.9354 - val_loss: 2.1026 - val_accuracy: 0.5576\n",
      "Epoch 11/40\n",
      "1200/1200 [==============================] - 186s 155ms/step - loss: 0.1664 - accuracy: 0.9353 - val_loss: 0.6525 - val_accuracy: 0.8393\n",
      "Epoch 12/40\n",
      "1200/1200 [==============================] - 185s 154ms/step - loss: 0.1598 - accuracy: 0.9380 - val_loss: 0.5074 - val_accuracy: 0.8596\n",
      "Epoch 13/40\n",
      "1200/1200 [==============================] - 185s 154ms/step - loss: 0.1587 - accuracy: 0.9394 - val_loss: 0.8919 - val_accuracy: 0.8035\n",
      "Epoch 14/40\n",
      "1200/1200 [==============================] - 186s 155ms/step - loss: 0.1534 - accuracy: 0.9398 - val_loss: 0.4455 - val_accuracy: 0.8745\n",
      "Epoch 15/40\n",
      "1200/1200 [==============================] - 186s 155ms/step - loss: 0.1505 - accuracy: 0.9420 - val_loss: 0.4919 - val_accuracy: 0.8519\n",
      "Epoch 16/40\n",
      "1200/1200 [==============================] - 187s 156ms/step - loss: 0.1483 - accuracy: 0.9432 - val_loss: 0.3228 - val_accuracy: 0.9097\n",
      "Epoch 17/40\n",
      "1200/1200 [==============================] - 185s 155ms/step - loss: 0.1463 - accuracy: 0.9436 - val_loss: 0.2374 - val_accuracy: 0.9252\n",
      "Epoch 18/40\n",
      "1200/1200 [==============================] - 186s 155ms/step - loss: 0.1441 - accuracy: 0.9455 - val_loss: 0.5045 - val_accuracy: 0.8620\n",
      "Epoch 19/40\n",
      "1200/1200 [==============================] - 185s 154ms/step - loss: 0.1422 - accuracy: 0.9464 - val_loss: 0.3109 - val_accuracy: 0.9145\n",
      "Epoch 20/40\n",
      "1200/1200 [==============================] - 186s 155ms/step - loss: 0.1410 - accuracy: 0.9458 - val_loss: 0.4845 - val_accuracy: 0.8562\n",
      "Epoch 21/40\n",
      "1200/1200 [==============================] - 186s 155ms/step - loss: 0.1402 - accuracy: 0.9462 - val_loss: 0.3237 - val_accuracy: 0.9075\n",
      "Epoch 22/40\n",
      "1200/1200 [==============================] - 185s 154ms/step - loss: 0.1374 - accuracy: 0.9474 - val_loss: 0.3818 - val_accuracy: 0.8976\n",
      "Epoch 23/40\n",
      "1200/1200 [==============================] - 186s 155ms/step - loss: 0.1367 - accuracy: 0.9474 - val_loss: 0.3151 - val_accuracy: 0.9111\n",
      "Epoch 24/40\n",
      "1200/1200 [==============================] - 185s 154ms/step - loss: 0.1349 - accuracy: 0.9478 - val_loss: 0.3759 - val_accuracy: 0.8946\n",
      "Epoch 25/40\n",
      "1200/1200 [==============================] - 185s 154ms/step - loss: 0.1327 - accuracy: 0.9512 - val_loss: 0.2056 - val_accuracy: 0.9335\n",
      "Epoch 26/40\n",
      "1200/1200 [==============================] - 185s 154ms/step - loss: 0.1325 - accuracy: 0.9498 - val_loss: 0.2314 - val_accuracy: 0.9284\n",
      "Epoch 27/40\n",
      "1200/1200 [==============================] - 186s 155ms/step - loss: 0.1315 - accuracy: 0.9505 - val_loss: 0.2273 - val_accuracy: 0.9286\n",
      "Epoch 28/40\n",
      " 598/1200 [=============>................] - ETA: 1:30 - loss: 0.1311 - accuracy: 0.9510"
     ]
    }
   ],
   "source": [
    "acc, val_acc, loss, val_loss = train_model(get_mobile_net(0.0, True, 0.0), TRAINING_EPOCHS)\n",
    "show_plot(acc, val_acc, loss, val_loss)"
   ]
  },
  {
   "cell_type": "markdown",
   "metadata": {},
   "source": [
    "# MobileNetV2 Model Transfer Learning/Fine Tuning"
   ]
  },
  {
   "cell_type": "code",
   "execution_count": null,
   "metadata": {},
   "outputs": [],
   "source": [
    "TRAINING_EPOCHS = 15\n",
    "base_learning_rate = 0.0001\n",
    "initial_epochs = TRAINING_EPOCHS"
   ]
  },
  {
   "cell_type": "code",
   "execution_count": null,
   "metadata": {},
   "outputs": [],
   "source": [
    "def do_transfer_learning(drop_value=0.0, data_aug=False, l2_reg=0.0):\n",
    "    dense_base_model = tf.keras.applications.MobileNetV2(input_shape=IMG_SHAPE,\n",
    "                                               include_top=False,\n",
    "                                               weights='imagenet')\n",
    "\n",
    "    dense_base_model.trainable = False\n",
    "\n",
    "    dense_preprocess_input = tf.keras.applications.mobilenet_v2.preprocess_input\n",
    "    dense_global_average_layer = tf.keras.layers.GlobalAveragePooling2D()\n",
    "    dense_prediction_layer = tf.keras.layers.Dense(1)\n",
    "\n",
    "    dense_inputs = tf.keras.Input(shape=(160, 160, 3))\n",
    "    if data_aug:\n",
    "        dag = data_augmentation(dense_inputs)\n",
    "        dense_x =  tf.keras.applications.mobilenet_v2.preprocess_input(dag)\n",
    "    else:\n",
    "        dense_x =  tf.keras.applications.mobilenet_v2.preprocess_input(dense_inputs)\n",
    "    dense_x = dense_base_model(dense_x, training=False)\n",
    "    dense_x = dense_global_average_layer(dense_x)\n",
    "    if drop_value > 0:\n",
    "        dense_x = keras.layers.Dropout(drop_value)(dense_x)\n",
    "    dense_outputs = dense_prediction_layer(dense_x)\n",
    "    dense_model = tf.keras.Model(dense_inputs, dense_outputs)\n",
    "    \n",
    "    dense_model.compile(optimizer=tf.keras.optimizers.Adam(learning_rate=base_learning_rate),\n",
    "              loss=tf.keras.losses.BinaryCrossentropy(from_logits=True),\n",
    "              metrics=['accuracy'])\n",
    "    \n",
    "    dense_history = dense_model.fit(train_dataset,\n",
    "                    epochs=TRAINING_EPOCHS,\n",
    "                    validation_data=validation_dataset)\n",
    "    \n",
    "    acc = dense_history.history['accuracy']\n",
    "    val_acc = dense_history.history['val_accuracy']\n",
    "\n",
    "    loss = dense_history.history['loss']\n",
    "    val_loss = dense_history.history['val_loss']\n",
    "\n",
    "    plt.figure(figsize=(8, 8))\n",
    "    plt.subplot(2, 1, 1)\n",
    "    plt.plot(acc, label='Training Accuracy')\n",
    "    plt.plot(val_acc, label='Validation Accuracy')\n",
    "    plt.legend(loc='lower right')\n",
    "    plt.ylabel('Accuracy')\n",
    "    plt.ylim([min(plt.ylim()),1])\n",
    "    plt.title('Training and Validation Accuracy')\n",
    "\n",
    "    plt.subplot(2, 1, 2)\n",
    "    plt.plot(loss, label='Training Loss')\n",
    "    plt.plot(val_loss, label='Validation Loss')\n",
    "    plt.legend(loc='upper right')\n",
    "    plt.ylabel('Cross Entropy')\n",
    "    plt.ylim([0,1.0])\n",
    "    plt.title('Training and Validation Loss')\n",
    "    plt.xlabel('epoch')\n",
    "    plt.show()\n",
    "    \n",
    "    dense_base_model.trainable = True\n",
    "    \n",
    "    dense_fine_tune_at = 100\n",
    "    \n",
    "    for layer in dense_base_model.layers[:dense_fine_tune_at]:\n",
    "        layer.trainable =  False\n",
    "        \n",
    "    dense_model.compile(loss=tf.keras.losses.BinaryCrossentropy(from_logits=True),\n",
    "              optimizer = tf.keras.optimizers.RMSprop(learning_rate=base_learning_rate/10),\n",
    "              metrics=['accuracy'])\n",
    "    \n",
    "    total_epochs =  TRAINING_EPOCHS + TRAINING_EPOCHS\n",
    "\n",
    "    dense_history_fine = dense_model.fit(train_dataset,\n",
    "                         epochs=total_epochs,\n",
    "                         initial_epoch=dense_history.epoch[-1],\n",
    "                         validation_data=validation_dataset)\n",
    "    \n",
    "    acc += dense_history_fine.history['accuracy']\n",
    "    val_acc += dense_history_fine.history['val_accuracy']\n",
    "\n",
    "    loss += dense_history_fine.history['loss']\n",
    "    val_loss += dense_history_fine.history['val_loss']\n",
    "    \n",
    "    plt.figure(figsize=(8, 8))\n",
    "    plt.subplot(2, 1, 1)\n",
    "    plt.plot(acc, label='Training Accuracy')\n",
    "    plt.plot(val_acc, label='Validation Accuracy')\n",
    "    plt.ylim([0.8, 1])\n",
    "    plt.plot([initial_epochs-1,initial_epochs-1],\n",
    "              plt.ylim(), label='Start Fine Tuning')\n",
    "    plt.legend(loc='lower right')\n",
    "    plt.title('Training and Validation Accuracy')\n",
    "\n",
    "    plt.subplot(2, 1, 2)\n",
    "    plt.plot(loss, label='Training Loss')\n",
    "    plt.plot(val_loss, label='Validation Loss')\n",
    "    plt.ylim([0, 1.0])\n",
    "    plt.plot([initial_epochs-1,initial_epochs-1],\n",
    "             plt.ylim(), label='Start Fine Tuning')\n",
    "    plt.legend(loc='upper right')\n",
    "    plt.title('Training and Validation Loss')\n",
    "    plt.xlabel('epoch')\n",
    "    plt.show()"
   ]
  },
  {
   "cell_type": "code",
   "execution_count": null,
   "metadata": {},
   "outputs": [],
   "source": [
    "def train_model_transfer_learning(model, initial_epochs, fine_tune_epochs, fine_tune_at):\n",
    "    print(\"Training model, epochs: \", initial_epochs)\n",
    "    model.compile(optimizer=tf.keras.optimizers.Adam(learning_rate=base_learning_rate),\n",
    "              loss=tf.keras.losses.BinaryCrossentropy(from_logits=True),\n",
    "              metrics=['accuracy'])\n",
    "    \n",
    "    history = model.fit(train_dataset,\n",
    "                    epochs=initial_epochs,\n",
    "                    validation_data=validation_dataset)\n",
    "    \n",
    "    acc = history.history['accuracy']\n",
    "    val_acc = history.history['val_accuracy']\n",
    "\n",
    "    loss = history.history['loss']\n",
    "    val_loss = history.history['val_loss']\n",
    "\n",
    "    \n",
    "    mobile_base_model.trainable = True\n",
    "    \n",
    "    # Freeze all the layers before the `fine_tune_at` layer\n",
    "    for layer in model.layers[:fine_tune_at]:\n",
    "        layer.trainable =  False\n",
    "        \n",
    "    model.compile(loss=tf.keras.losses.BinaryCrossentropy(from_logits=True),\n",
    "              optimizer = tf.keras.optimizers.RMSprop(learning_rate=base_learning_rate/10),\n",
    "              metrics=['accuracy'])\n",
    "    \n",
    "    total_epochs =  initial_epochs + fine_tune_epochs\n",
    "\n",
    "    print(\"Fine tuning, epochs: \", fine_tune_epochs)\n",
    "    history_fine = model.fit(train_dataset,\n",
    "                         epochs=total_epochs,\n",
    "                         initial_epoch=history.epoch[-1],\n",
    "                         validation_data=validation_dataset)\n",
    "    \n",
    "    acc += history_fine.history['accuracy']\n",
    "    val_acc += history_fine.history['val_accuracy']\n",
    "\n",
    "    loss += history_fine.history['loss']\n",
    "    val_loss += history_fine.history['val_loss']\n",
    "    \n",
    "    loss, accuracy = model.evaluate(test_dataset)\n",
    "    print('Test accuracy :', accuracy)\n",
    "    \n",
    "    return acc, val_acc, loss, val_loss"
   ]
  },
  {
   "cell_type": "code",
   "execution_count": null,
   "metadata": {},
   "outputs": [],
   "source": [
    "def get_mobile_net(drop_value=0.0, data_aug=False, l2_reg=0.0):\n",
    "    inputs = tf.keras.Input(shape=(160, 160, 3))\n",
    "    \n",
    "    if data_aug:\n",
    "        dag = data_augmentation(inputs)\n",
    "        processed_input =  tf.keras.applications.mobilenet_v2.preprocess_input(dag)\n",
    "    else:\n",
    "        processed_input =  tf.keras.applications.mobilenet_v2.preprocess_input(inputs)\n",
    "    \n",
    "    x = mobile_base_model(processed_input, training=False)\n",
    "    \n",
    "    global_average_layer = tf.keras.layers.GlobalAveragePooling2D()\n",
    "    \n",
    "    x = global_average_layer(x)\n",
    "    \n",
    "    if drop_value > 0:\n",
    "        x = keras.layers.Dropout(drop_value)(x)\n",
    "    \n",
    "    if l2_reg > 0:\n",
    "        x = keras.layers.Dense(1, kernel_regularizer=regularizers.l2(l2_reg),\n",
    "                bias_regularizer=regularizers.l2(l2_reg),\n",
    "                activity_regularizer=regularizers.l2(l2_reg))(x)\n",
    "    else:\n",
    "        x = keras.layers.Dense(1)(x)\n",
    "    return keras.Model(inputs, x)"
   ]
  },
  {
   "cell_type": "code",
   "execution_count": null,
   "metadata": {},
   "outputs": [],
   "source": [
    "do_transfer_learning(0.0, False, 0.0)"
   ]
  },
  {
   "cell_type": "code",
   "execution_count": null,
   "metadata": {},
   "outputs": [],
   "source": [
    "do_transfer_learning(0.0, True, 0.0)"
   ]
  },
  {
   "cell_type": "code",
   "execution_count": null,
   "metadata": {},
   "outputs": [],
   "source": [
    "do_transfer_learning(0.2, True, 0.0)"
   ]
  },
  {
   "cell_type": "markdown",
   "metadata": {},
   "source": [
    "# DenseNet model"
   ]
  },
  {
   "cell_type": "code",
   "execution_count": null,
   "metadata": {},
   "outputs": [],
   "source": [
    "def do_transfer_learning(drop_value=0.0, data_aug=False, l2_reg=0.0):\n",
    "    dense_base_model = tf.keras.applications.DenseNet201(input_shape=IMG_SHAPE,\n",
    "                                               include_top=False,\n",
    "                                               weights='imagenet')\n",
    "\n",
    "    dense_base_model.trainable = False\n",
    "\n",
    "    dense_preprocess_input = tf.keras.applications.densenet.preprocess_input\n",
    "    dense_global_average_layer = tf.keras.layers.GlobalAveragePooling2D()\n",
    "    dense_prediction_layer = tf.keras.layers.Dense(1)\n",
    "\n",
    "    dense_inputs = tf.keras.Input(shape=(160, 160, 3))\n",
    "    if data_aug:\n",
    "        dag = data_augmentation(dense_inputs)\n",
    "        dense_x =  tf.keras.applications.densenet.preprocess_input(dag)\n",
    "    else:\n",
    "        dense_x =  tf.keras.applications.densenet.preprocess_input(dense_inputs)\n",
    "    dense_x = dense_base_model(dense_x, training=False)\n",
    "    dense_x = dense_global_average_layer(dense_x)\n",
    "    if drop_value > 0:\n",
    "        dense_x = keras.layers.Dropout(drop_value)(dense_x)\n",
    "    dense_outputs = dense_prediction_layer(dense_x)\n",
    "    dense_model = tf.keras.Model(dense_inputs, dense_outputs)\n",
    "    \n",
    "    dense_model.compile(optimizer=tf.keras.optimizers.Adam(learning_rate=base_learning_rate),\n",
    "              loss=tf.keras.losses.BinaryCrossentropy(from_logits=True),\n",
    "              metrics=['accuracy'])\n",
    "    \n",
    "    dense_history = dense_model.fit(train_dataset,\n",
    "                    epochs=TRAINING_EPOCHS,\n",
    "                    validation_data=validation_dataset)\n",
    "    \n",
    "    acc = dense_history.history['accuracy']\n",
    "    val_acc = dense_history.history['val_accuracy']\n",
    "\n",
    "    loss = dense_history.history['loss']\n",
    "    val_loss = dense_history.history['val_loss']\n",
    "\n",
    "    plt.figure(figsize=(8, 8))\n",
    "    plt.subplot(2, 1, 1)\n",
    "    plt.plot(acc, label='Training Accuracy')\n",
    "    plt.plot(val_acc, label='Validation Accuracy')\n",
    "    plt.legend(loc='lower right')\n",
    "    plt.ylabel('Accuracy')\n",
    "    plt.ylim([min(plt.ylim()),1])\n",
    "    plt.title('Training and Validation Accuracy')\n",
    "\n",
    "    plt.subplot(2, 1, 2)\n",
    "    plt.plot(loss, label='Training Loss')\n",
    "    plt.plot(val_loss, label='Validation Loss')\n",
    "    plt.legend(loc='upper right')\n",
    "    plt.ylabel('Cross Entropy')\n",
    "    plt.ylim([0,1.0])\n",
    "    plt.title('Training and Validation Loss')\n",
    "    plt.xlabel('epoch')\n",
    "    plt.show()\n",
    "    \n",
    "    dense_base_model.trainable = True\n",
    "    \n",
    "    dense_fine_tune_at = 660\n",
    "    \n",
    "    for layer in dense_base_model.layers[:dense_fine_tune_at]:\n",
    "        layer.trainable =  False\n",
    "        \n",
    "    dense_model.compile(loss=tf.keras.losses.BinaryCrossentropy(from_logits=True),\n",
    "              optimizer = tf.keras.optimizers.RMSprop(learning_rate=base_learning_rate/10),\n",
    "              metrics=['accuracy'])\n",
    "    \n",
    "    total_epochs =  TRAINING_EPOCHS + TRAINING_EPOCHS\n",
    "\n",
    "    dense_history_fine = dense_model.fit(train_dataset,\n",
    "                         epochs=total_epochs,\n",
    "                         initial_epoch=dense_history.epoch[-1],\n",
    "                         validation_data=validation_dataset)\n",
    "    \n",
    "    acc += dense_history_fine.history['accuracy']\n",
    "    val_acc += dense_history_fine.history['val_accuracy']\n",
    "\n",
    "    loss += dense_history_fine.history['loss']\n",
    "    val_loss += dense_history_fine.history['val_loss']\n",
    "    \n",
    "    plt.figure(figsize=(8, 8))\n",
    "    plt.subplot(2, 1, 1)\n",
    "    plt.plot(acc, label='Training Accuracy')\n",
    "    plt.plot(val_acc, label='Validation Accuracy')\n",
    "    plt.ylim([0.8, 1])\n",
    "    plt.plot([initial_epochs-1,initial_epochs-1],\n",
    "              plt.ylim(), label='Start Fine Tuning')\n",
    "    plt.legend(loc='lower right')\n",
    "    plt.title('Training and Validation Accuracy')\n",
    "\n",
    "    plt.subplot(2, 1, 2)\n",
    "    plt.plot(loss, label='Training Loss')\n",
    "    plt.plot(val_loss, label='Validation Loss')\n",
    "    plt.ylim([0, 1.0])\n",
    "    plt.plot([initial_epochs-1,initial_epochs-1],\n",
    "             plt.ylim(), label='Start Fine Tuning')\n",
    "    plt.legend(loc='upper right')\n",
    "    plt.title('Training and Validation Loss')\n",
    "    plt.xlabel('epoch')\n",
    "    plt.show()"
   ]
  },
  {
   "cell_type": "code",
   "execution_count": null,
   "metadata": {},
   "outputs": [],
   "source": [
    "do_transfer_learning(0.0, False, 0.0)"
   ]
  },
  {
   "cell_type": "code",
   "execution_count": null,
   "metadata": {},
   "outputs": [],
   "source": [
    "do_transfer_learning(0.0, True, 0.0)"
   ]
  },
  {
   "cell_type": "code",
   "execution_count": null,
   "metadata": {},
   "outputs": [],
   "source": [
    "do_transfer_learning(0.2, True, 0.0)"
   ]
  },
  {
   "cell_type": "code",
   "execution_count": null,
   "metadata": {},
   "outputs": [],
   "source": []
  }
 ],
 "metadata": {
  "kernelspec": {
   "display_name": "Python 3 (ipykernel)",
   "language": "python",
   "name": "python3"
  },
  "language_info": {
   "codemirror_mode": {
    "name": "ipython",
    "version": 3
   },
   "file_extension": ".py",
   "mimetype": "text/x-python",
   "name": "python",
   "nbconvert_exporter": "python",
   "pygments_lexer": "ipython3",
   "version": "3.9.5"
  }
 },
 "nbformat": 4,
 "nbformat_minor": 4
}
