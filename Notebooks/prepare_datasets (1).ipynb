{
 "cells": [
  {
   "cell_type": "code",
   "execution_count": 31,
   "metadata": {},
   "outputs": [],
   "source": [
    "import numpy as np\n",
    "import os, time, shutil\n",
    "\n",
    "import matplotlib.pyplot as plt\n",
    "\n",
    "import random\n",
    "import os\n",
    "from pathlib import Path"
   ]
  },
  {
   "cell_type": "code",
   "execution_count": 32,
   "metadata": {},
   "outputs": [],
   "source": [
    "dir = \"LRoot_sipi_v4\""
   ]
  },
  {
   "cell_type": "code",
   "execution_count": 33,
   "metadata": {},
   "outputs": [],
   "source": [
    "!rm -rf DatasetSIPI"
   ]
  },
  {
   "cell_type": "code",
   "execution_count": 34,
   "metadata": {
    "scrolled": true
   },
   "outputs": [
    {
     "name": "stdout",
     "output_type": "stream",
     "text": [
      " 2014\t\t\t       prepare_datasets.ipynb\r\n",
      " 2014.zip\t\t       prepare_datasets-Multi.ipynb\r\n",
      " 57398.tar\t\t       prepare_datasets-Multi-SIPI.ipynb\r\n",
      " DatasetBasic\t\t       prepare_multi_dataset.ipynb\r\n",
      " DatasetSIPIBubble\t       prepare_ZooScan_dataset.ipynb\r\n",
      " DatasetSIPIDetr\t       Train-Basic.ipynb\r\n",
      " DatasetSIPI-NoShadow\t       Train_densenet_from_scratch.ipynb\r\n",
      " DatasetWHOI\t\t       Train_from_scratch.ipynb\r\n",
      " DatasetZS\t\t       Training_hyperparam.ipynb\r\n",
      " densenet_model\t\t       Train.ipynb\r\n",
      "'Image Classification.ipynb'   Train_tensorflow-dense.ipynb\r\n",
      " LRoot_sipi_v4\t\t       Train_tensorflow_from_scratch.ipynb\r\n",
      " LRoot_sipi_v4_nonScale.zip    Train_tensorflow-mobile-2.ipynb\r\n",
      " model.zip\t\t       Train_tensorflow_mobilenet.ipynb\r\n",
      " Multidataset\t\t       Train_tensorflow-no-weights.ipynb\r\n",
      " Multidataset-SIPI-A\t       Train_tensorflow_time.ipynb\r\n",
      " Multidataset-SIPI-B\t       Train_tensorflow_time-Multi.ipynb\r\n",
      " prepare_dataset.ipynb\t       ZooScanSet\r\n"
     ]
    }
   ],
   "source": [
    "!ls"
   ]
  },
  {
   "cell_type": "code",
   "execution_count": 35,
   "metadata": {},
   "outputs": [],
   "source": [
    "!mkdir DatasetSIPI"
   ]
  },
  {
   "cell_type": "code",
   "execution_count": 36,
   "metadata": {},
   "outputs": [],
   "source": [
    "!mkdir DatasetSIPI/train\n",
    "!mkdir DatasetSIPI/test\n",
    "!mkdir DatasetSIPI/val"
   ]
  },
  {
   "cell_type": "code",
   "execution_count": 37,
   "metadata": {},
   "outputs": [],
   "source": [
    "!mkdir DatasetSIPI/train/Detritus\n",
    "!mkdir DatasetSIPI/train/Other\n",
    "!mkdir DatasetSIPI/test/Detritus\n",
    "!mkdir DatasetSIPI/test/Other\n",
    "\n",
    "!mkdir DatasetSIPI/val/Detritus\n",
    "!mkdir DatasetSIPI/val/Other"
   ]
  },
  {
   "cell_type": "code",
   "execution_count": 38,
   "metadata": {},
   "outputs": [],
   "source": [
    "def get_file_name(subdir):\n",
    "    return subdir.split('/')[-1]"
   ]
  },
  {
   "cell_type": "code",
   "execution_count": 39,
   "metadata": {},
   "outputs": [],
   "source": [
    "def get_class_name(subdir):\n",
    "    return subdir.split('/')[-2]"
   ]
  },
  {
   "cell_type": "code",
   "execution_count": 40,
   "metadata": {},
   "outputs": [],
   "source": [
    "image_dict = {}\n",
    "images = []\n",
    "for subdir, dirs, files in os.walk(dir):\n",
    "    for file in files:\n",
    "        if(file.endswith('.png')):\n",
    "            if (os.path.getsize(subdir+\"/\"+file) > 0):\n",
    "                class_name = get_class_name(subdir+\"/\"+file)\n",
    "                images.append(subdir+\"/\"+file)\n",
    "                image_dict[class_name] = image_dict.get(class_name, 0) + 1"
   ]
  },
  {
   "cell_type": "code",
   "execution_count": 41,
   "metadata": {},
   "outputs": [],
   "source": [
    "random.shuffle(images)"
   ]
  },
  {
   "cell_type": "code",
   "execution_count": 42,
   "metadata": {},
   "outputs": [],
   "source": [
    "X = 0.70 #Train\n",
    "Y = 0.15 #Test\n",
    "Z = 0.15 #Validation"
   ]
  },
  {
   "cell_type": "code",
   "execution_count": 43,
   "metadata": {},
   "outputs": [
    {
     "data": {
      "text/plain": [
       "54844"
      ]
     },
     "execution_count": 43,
     "metadata": {},
     "output_type": "execute_result"
    }
   ],
   "source": [
    "len(images)"
   ]
  },
  {
   "cell_type": "code",
   "execution_count": 44,
   "metadata": {},
   "outputs": [],
   "source": [
    "from shutil import move, copyfile\n",
    "sz = len(images)\n",
    "i = 0\n",
    "sub = \"train\"\n",
    "for file in images:\n",
    "    file_name = get_file_name(file)\n",
    "    if (i > X*sz and i < (X+Y)*sz):\n",
    "        sub = \"test\"\n",
    "    if (i > (X+Y)*sz):\n",
    "        sub = \"val\"\n",
    "    if(get_class_name(file).endswith(\"shadow\") or get_class_name(file).endswith(\"Detritus\") or get_class_name(file).endswith(\"Bubbles\")):\n",
    "        copyfile(file, \"DatasetSIPI/\"+sub+\"/Detritus/\"+file_name)\n",
    "    else:\n",
    "        copyfile(file, \"DatasetSIPI/\"+sub+\"/Other/\"+file_name)\n",
    "    i = i + 1\n",
    "\n"
   ]
  },
  {
   "cell_type": "code",
   "execution_count": 45,
   "metadata": {
    "scrolled": true
   },
   "outputs": [
    {
     "data": {
      "text/plain": [
       "{'LClass_Ciliate': 238,\n",
       " 'LClass_Appendic_Unfoc': 2689,\n",
       " 'LClass_Cnidaria': 328,\n",
       " 'LClass_Nauplii_Cirripedia': 15,\n",
       " 'LClass_Unknown_1': 1,\n",
       " 'LClass_Phy_Dia_Chaet': 152,\n",
       " 'LClass_outros': 92,\n",
       " 'LClass_Phy_dia_sp1': 40,\n",
       " 'LClass_Phy_Dia_Pennate_Curved': 204,\n",
       " 'LClass_Cladoc_Pen_Unfoc': 33,\n",
       " 'LClass_Phy_Dia_Hemiaulus_1_NOVA': 94,\n",
       " 'LClass_Cnidaria_Unfoc': 160,\n",
       " 'LClass_shadow': 11311,\n",
       " 'LClass_Dino_Cer_Trip_Brev': 937,\n",
       " 'LClass_Phy_Dia_General': 137,\n",
       " 'LClass_Cypris': 1,\n",
       " 'LClass_Unknown_2': 13,\n",
       " 'LClass_Rotifera': 7,\n",
       " 'LClass_Larvae_Polyc': 116,\n",
       " 'LClass_Larvae_Decapod': 12,\n",
       " 'LClass_Amoeba': 1,\n",
       " 'LClass_Cladoc_Pen': 47,\n",
       " 'LClass_Cop_Calanoida_Unfoc': 1513,\n",
       " 'LClass_Chaetognatha': 31,\n",
       " 'LClass_diatom_bolinha': 75,\n",
       " 'LClass_Cop_Ecdise': 665,\n",
       " 'LClass_Briozoario': 11,\n",
       " 'LClass_Dino_Cer_Tric_Mass': 2597,\n",
       " 'LClass_Larvae_Echnoderm': 13,\n",
       " 'LClass_Dino_Cer_Tripus_I': 18,\n",
       " 'LClass_Phy_Cosci_Unfoc': 377,\n",
       " 'LClass_Phy_Dia_Pennate_Fina': 136,\n",
       " 'LClass_Dino_Cer_Fur_Lin': 581,\n",
       " 'LClass_Dino_Noct': 14,\n",
       " 'LClass_Phy_Dia_Quadrada': 306,\n",
       " 'LClass_Phoronida': 2,\n",
       " 'LClass_Cop_Poec': 187,\n",
       " 'LClass_Cop_Cyclo': 1303,\n",
       " 'LClass_Turbellaria': 63,\n",
       " 'LClass_Nauplii_Cop': 2329,\n",
       " 'LClass_Cop_Cut': 53,\n",
       " 'LClass_Bivalve': 4,\n",
       " 'LClass_Filaments': 3544,\n",
       " 'LClass_Phy_Dia_Pennate_Gorda': 45,\n",
       " 'LClass_Phyt_dia_meia_lua': 57,\n",
       " 'LClass_Emaranhado': 61,\n",
       " 'LClass_Filaments_Unfoc': 600,\n",
       " 'LClass_Bubbles': 6,\n",
       " 'LClass_Larvae_veliger': 51,\n",
       " 'LClass_Sticholonche_zanclea': 6,\n",
       " 'LClass_Phy_Dia_Chain': 2080,\n",
       " 'LClass_Appendic': 2618,\n",
       " 'LClass_Cop_Calanoida': 1611,\n",
       " 'LClass_Phyto_Rhizosolenia': 187,\n",
       " 'LClass_Cyano_Tricho_Tuff': 40,\n",
       " 'LClass_Acantharia_sp': 155,\n",
       " 'LClass_Zoothamnium_sp1': 233,\n",
       " 'LClass_Detritus': 13875,\n",
       " 'LClass_Nauplii_Temora': 2,\n",
       " 'LClass_Tontonia': 55,\n",
       " 'LClass_Silicoflagellate': 3,\n",
       " 'LClass_Phy_Dia_Cosci': 661,\n",
       " 'LClass_Cop_Cyclo_Unfoc': 966,\n",
       " 'LClass_Cladoc_Evad': 14,\n",
       " 'LClass_Pelotas': 39,\n",
       " 'LClass_Asterionellopsis': 244,\n",
       " 'LClass_Tintin_favella': 337,\n",
       " 'LClass_Cop_Harpacticoida': 112,\n",
       " 'LClass_Ctenophora': 4,\n",
       " 'LClass_Ictio': 17,\n",
       " 'LClass_Radiolaria': 3,\n",
       " 'LClass_Unknown_3': 22,\n",
       " 'LClass_Zoothamnium_sp2': 6,\n",
       " 'LClass_Phy_Dia_Spiral': 284}"
      ]
     },
     "execution_count": 45,
     "metadata": {},
     "output_type": "execute_result"
    }
   ],
   "source": [
    "image_dict"
   ]
  },
  {
   "cell_type": "code",
   "execution_count": null,
   "metadata": {},
   "outputs": [],
   "source": []
  },
  {
   "cell_type": "code",
   "execution_count": null,
   "metadata": {},
   "outputs": [],
   "source": []
  },
  {
   "cell_type": "code",
   "execution_count": null,
   "metadata": {},
   "outputs": [],
   "source": []
  }
 ],
 "metadata": {
  "kernelspec": {
   "display_name": "Python 3 (ipykernel)",
   "language": "python",
   "name": "python3"
  },
  "language_info": {
   "codemirror_mode": {
    "name": "ipython",
    "version": 3
   },
   "file_extension": ".py",
   "mimetype": "text/x-python",
   "name": "python",
   "nbconvert_exporter": "python",
   "pygments_lexer": "ipython3",
   "version": "3.9.5"
  }
 },
 "nbformat": 4,
 "nbformat_minor": 2
}
