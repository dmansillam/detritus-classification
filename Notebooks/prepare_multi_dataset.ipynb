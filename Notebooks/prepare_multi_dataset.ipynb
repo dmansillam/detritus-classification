{
 "cells": [
  {
   "cell_type": "code",
   "execution_count": 40,
   "metadata": {},
   "outputs": [],
   "source": [
    "import numpy as np\n",
    "import os, time, shutil\n",
    "\n",
    "import matplotlib.pyplot as plt\n",
    "import matplotlib.image as mpimg\n",
    "\n",
    "import random\n",
    "import os\n",
    "from pathlib import Path\n",
    "\n",
    "\n",
    "import tensorflow as tf\n",
    "from tensorflow import keras\n",
    "from tensorflow.keras import preprocessing\n",
    "from tensorflow.keras.preprocessing import image_dataset_from_directory\n",
    "\n",
    "from PIL import Image"
   ]
  },
  {
   "cell_type": "code",
   "execution_count": 41,
   "metadata": {},
   "outputs": [],
   "source": [
    "images = []\n",
    "dir = 'LRoot_sipi_v4'"
   ]
  },
  {
   "cell_type": "code",
   "execution_count": 42,
   "metadata": {},
   "outputs": [
    {
     "name": "stdout",
     "output_type": "stream",
     "text": [
      " 2014\t\t\t       prepare_dataset.ipynb\r\n",
      " 2014.zip\t\t       prepare_datasets.ipynb\r\n",
      " 57398.tar\t\t       prepare_ZooScan_dataset.ipynb\r\n",
      " DatasetBasic\t\t       Train-Basic.ipynb\r\n",
      " DatasetSIPI\t\t       Train_from_scratch.ipynb\r\n",
      " DatasetSIPIBubble\t       Training_hyperparam.ipynb\r\n",
      " DatasetSIPIDetr\t       Train.ipynb\r\n",
      " DatasetSIPI-NoShadow\t       Train_tensorflow-dense.ipynb\r\n",
      " DatasetWHOI\t\t       Train_tensorflow_from_scratch.ipynb\r\n",
      " densenet_model\t\t       Train_tensorflow-mobile-2.ipynb\r\n",
      "'Image Classification.ipynb'   Train_tensorflow_mobilenet.ipynb\r\n",
      " LRoot_sipi_v4\t\t       Train_tensorflow-no-weights.ipynb\r\n",
      " LRoot_sipi_v4_nonScale.zip    Train_tensorflow_time.ipynb\r\n",
      " model.zip\t\t       ZooScanSet\r\n"
     ]
    }
   ],
   "source": [
    "!ls"
   ]
  },
  {
   "cell_type": "code",
   "execution_count": 43,
   "metadata": {},
   "outputs": [],
   "source": [
    "!rm -rf DatasetMultiA\n",
    "!mkdir DatasetMultiA"
   ]
  },
  {
   "cell_type": "code",
   "execution_count": 44,
   "metadata": {},
   "outputs": [],
   "source": [
    "!mkdir DatasetMultiA/train\n",
    "!mkdir DatasetMultiA/test\n",
    "!mkdir DatasetMultiA/val"
   ]
  },
  {
   "cell_type": "code",
   "execution_count": 45,
   "metadata": {},
   "outputs": [],
   "source": [
    "!mkdir DatasetSIPI-NoShadow/train/Detritus\n",
    "!mkdir DatasetSIPI-NoShadow/train/Other\n",
    "\n",
    "!mkdir DatasetSIPI-NoShadow/test/Detritus\n",
    "!mkdir DatasetSIPI-NoShadow/test/Other\n",
    "\n",
    "!mkdir DatasetSIPI-NoShadow/val/Detritus\n",
    "!mkdir DatasetSIPI-NoShadow/val/Other"
   ]
  },
  {
   "cell_type": "code",
   "execution_count": 46,
   "metadata": {},
   "outputs": [],
   "source": [
    "def get_file_name(subdir):\n",
    "    return subdir[subdir.rfind('/')+1:]"
   ]
  },
  {
   "cell_type": "code",
   "execution_count": 47,
   "metadata": {},
   "outputs": [],
   "source": [
    "def get_class_name(subdir):\n",
    "    return subdir[subdir.index('/')+1:subdir.rfind('/')]"
   ]
  },
  {
   "cell_type": "code",
   "execution_count": 50,
   "metadata": {},
   "outputs": [],
   "source": [
    "images = []\n",
    "for subdir, dirs, files in os.walk(dir):\n",
    "    for file in files:\n",
    "        if(file.endswith('.png')):\n",
    "            if (os.path.getsize(subdir+\"/\"+file) > 0):\n",
    "                if(get_class_name(subdir+\"/\"+file).endswith(\"shadow\")):\n",
    "                    continue\n",
    "                #print(subdir+\"/\"+file)\n",
    "                images.append(subdir+\"/\"+file)"
   ]
  },
  {
   "cell_type": "code",
   "execution_count": 51,
   "metadata": {},
   "outputs": [],
   "source": [
    "random.shuffle(images)"
   ]
  },
  {
   "cell_type": "code",
   "execution_count": 52,
   "metadata": {},
   "outputs": [],
   "source": [
    "X = 0.70 #Train\n",
    "Y = 0.15 #Test\n",
    "Z = 0.15 #Validation"
   ]
  },
  {
   "cell_type": "code",
   "execution_count": 53,
   "metadata": {},
   "outputs": [],
   "source": [
    "from shutil import copyfile\n",
    "sz = len(images)\n",
    "i = 0\n",
    "sub = \"train\"\n",
    "for file in images:\n",
    "    file_name = get_file_name(file)\n",
    "    if (i > X*sz and i < (X+Y)*sz):\n",
    "        sub = \"test\"\n",
    "    if (i > (X+Y)*sz):\n",
    "        sub = \"val\"\n",
    "    if(get_class_name(file).endswith(\"Detritus\")):\n",
    "        copyfile(file, \"DatasetSIPI-NoShadow/\"+sub+\"/Detritus/\"+file_name)\n",
    "    else:\n",
    "        copyfile(file, \"DatasetSIPI-NoShadow/\"+sub+\"/Other/\"+file_name)\n",
    "    i = i + 1"
   ]
  },
  {
   "cell_type": "code",
   "execution_count": null,
   "metadata": {
    "scrolled": false
   },
   "outputs": [],
   "source": []
  },
  {
   "cell_type": "code",
   "execution_count": 26,
   "metadata": {},
   "outputs": [
    {
     "name": "stdout",
     "output_type": "stream",
     "text": [
      " 2014\t\t\t       prepare_datasets.ipynb\r\n",
      " 2014.zip\t\t       prepare_ZooScan_dataset.ipynb\r\n",
      " 57398.tar\t\t       Train-Basic.ipynb\r\n",
      " DatasetBasic\t\t       Train_from_scratch.ipynb\r\n",
      " DatasetSIPIBubble\t       Training_hyperparam.ipynb\r\n",
      " DatasetWHOI\t\t       Train.ipynb\r\n",
      " DatasetZS\t\t       Train_tensorflow-dense.ipynb\r\n",
      " densenet_model\t\t       Train_tensorflow_from_scratch.ipynb\r\n",
      "'Image Classification.ipynb'   Train_tensorflow_mobilenet.ipynb\r\n",
      " LRoot_sipi_v4\t\t       Train_tensorflow-no-weights.ipynb\r\n",
      " LRoot_sipi_v4_nonScale.zip    Train_tensorflow_time.ipynb\r\n",
      " model.zip\t\t       ZooScanSet\r\n",
      " prepare_dataset.ipynb\r\n"
     ]
    }
   ],
   "source": [
    "!ls"
   ]
  },
  {
   "cell_type": "code",
   "execution_count": 27,
   "metadata": {},
   "outputs": [
    {
     "ename": "ModuleNotFoundError",
     "evalue": "No module named 'cv2'",
     "output_type": "error",
     "traceback": [
      "\u001b[0;31m---------------------------------------------------------------------------\u001b[0m",
      "\u001b[0;31mModuleNotFoundError\u001b[0m                       Traceback (most recent call last)",
      "\u001b[0;32m/tmp/ipykernel_31165/3152341986.py\u001b[0m in \u001b[0;36m<module>\u001b[0;34m\u001b[0m\n\u001b[1;32m      1\u001b[0m \u001b[0;32mimport\u001b[0m \u001b[0mrandom\u001b[0m\u001b[0;34m\u001b[0m\u001b[0;34m\u001b[0m\u001b[0m\n\u001b[1;32m      2\u001b[0m \u001b[0;32mimport\u001b[0m \u001b[0mos\u001b[0m\u001b[0;34m\u001b[0m\u001b[0;34m\u001b[0m\u001b[0m\n\u001b[0;32m----> 3\u001b[0;31m \u001b[0;32mimport\u001b[0m \u001b[0mcv2\u001b[0m\u001b[0;34m\u001b[0m\u001b[0;34m\u001b[0m\u001b[0m\n\u001b[0m\u001b[1;32m      4\u001b[0m \u001b[0;34m\u001b[0m\u001b[0m\n\u001b[1;32m      5\u001b[0m \u001b[0mdir\u001b[0m \u001b[0;34m=\u001b[0m \u001b[0;34m\"DatasetSIPIBubble\"\u001b[0m\u001b[0;34m\u001b[0m\u001b[0;34m\u001b[0m\u001b[0m\n",
      "\u001b[0;31mModuleNotFoundError\u001b[0m: No module named 'cv2'"
     ]
    }
   ],
   "source": []
  },
  {
   "cell_type": "code",
   "execution_count": null,
   "metadata": {},
   "outputs": [],
   "source": []
  },
  {
   "cell_type": "code",
   "execution_count": null,
   "metadata": {},
   "outputs": [],
   "source": []
  }
 ],
 "metadata": {
  "kernelspec": {
   "display_name": "Python 3 (ipykernel)",
   "language": "python",
   "name": "python3"
  },
  "language_info": {
   "codemirror_mode": {
    "name": "ipython",
    "version": 3
   },
   "file_extension": ".py",
   "mimetype": "text/x-python",
   "name": "python",
   "nbconvert_exporter": "python",
   "pygments_lexer": "ipython3",
   "version": "3.9.5"
  }
 },
 "nbformat": 4,
 "nbformat_minor": 4
}
