{
 "cells": [
  {
   "cell_type": "code",
   "execution_count": 1,
   "metadata": {},
   "outputs": [
    {
     "name": "stderr",
     "output_type": "stream",
     "text": [
      "2022-06-04 14:09:05.543395: I tensorflow/stream_executor/platform/default/dso_loader.cc:53] Successfully opened dynamic library libcudart.so.11.0\n"
     ]
    }
   ],
   "source": [
    "import numpy as np\n",
    "import os, time, shutil\n",
    "\n",
    "import matplotlib.pyplot as plt\n",
    "import matplotlib.image as mpimg\n",
    "\n",
    "import random\n",
    "import os\n",
    "from pathlib import Path\n",
    "\n",
    "\n",
    "import tensorflow as tf\n",
    "from tensorflow import keras\n",
    "from tensorflow.keras import preprocessing\n",
    "from tensorflow.keras.preprocessing import image_dataset_from_directory\n",
    "\n",
    "from PIL import Image"
   ]
  },
  {
   "cell_type": "code",
   "execution_count": 2,
   "metadata": {},
   "outputs": [],
   "source": [
    "images = []\n",
    "dir = 'LRoot_sipi_v4'"
   ]
  },
  {
   "cell_type": "code",
   "execution_count": 3,
   "metadata": {},
   "outputs": [
    {
     "name": "stdout",
     "output_type": "stream",
     "text": [
      " 2014\t\t\t       prepare_dataset.ipynb\r\n",
      " 2014.zip\t\t       prepare_datasets.ipynb\r\n",
      " 57398.tar\t\t       prepare_datasets-Multi.ipynb\r\n",
      " DatasetBasic\t\t       prepare_datasets-Multi-SIPI.ipynb\r\n",
      " Dataset-Detritus-Bubble       prepare_multi_dataset.ipynb\r\n",
      " Dataset-Detritus-Bubble-25    prepare_ZooScan_dataset.ipynb\r\n",
      " DatasetSIPI\t\t       results.zip\r\n",
      " DatasetSIPIBubble\t       Train-Basic.ipynb\r\n",
      " DatasetSIPIDetr\t       Train_custom_net_from_scratch.ipynb\r\n",
      " DatasetSIPI-NoShadow\t       Train_densenet_from_scratch.ipynb\r\n",
      " Dataset-Test\t\t       Train_from_scratch.ipynb\r\n",
      " DatasetWHOI\t\t       Training_hyperparam.ipynb\r\n",
      " DatasetZS\t\t       Training_models_comparation.ipynb\r\n",
      " densenet_model\t\t       Train.ipynb\r\n",
      "'Image Classification.ipynb'   Train_tensorflow-dense.ipynb\r\n",
      " LRoot_sipi_v4\t\t       Train_tensorflow_from_scratch.ipynb\r\n",
      " LRoot_sipi_v4_nonScale.zip    Train_tensorflow-mobile-2.ipynb\r\n",
      " model.zip\t\t       Train_tensorflow_mobilenet.ipynb\r\n",
      " Multidataset\t\t       Train_tensorflow-no-weights.ipynb\r\n",
      " Multidataset-SIPI-A\t       Train_tensorflow_time.ipynb\r\n",
      " Multidataset-SIPI-B\t       Train_tensorflow_time-Multi.ipynb\r\n",
      " Output\t\t\t       ZooScanSet\r\n"
     ]
    }
   ],
   "source": [
    "!ls"
   ]
  },
  {
   "cell_type": "code",
   "execution_count": 4,
   "metadata": {},
   "outputs": [],
   "source": [
    "!rm -rf Dataset-Detritus-Bubble\n",
    "!mkdir Dataset-Detritus-Bubble"
   ]
  },
  {
   "cell_type": "code",
   "execution_count": 5,
   "metadata": {},
   "outputs": [],
   "source": [
    "!mkdir Dataset-Detritus-Bubble/train\n",
    "!mkdir Dataset-Detritus-Bubble/test\n",
    "!mkdir Dataset-Detritus-Bubble/val"
   ]
  },
  {
   "cell_type": "code",
   "execution_count": 6,
   "metadata": {},
   "outputs": [],
   "source": [
    "!mkdir Dataset-Detritus-Bubble/train/Detritus\n",
    "!mkdir Dataset-Detritus-Bubble/train/Other\n",
    "\n",
    "!mkdir Dataset-Detritus-Bubble/test/Detritus\n",
    "!mkdir Dataset-Detritus-Bubble/test/Other\n",
    "\n",
    "!mkdir Dataset-Detritus-Bubble/val/Detritus\n",
    "!mkdir Dataset-Detritus-Bubble/val/Other"
   ]
  },
  {
   "cell_type": "code",
   "execution_count": 7,
   "metadata": {},
   "outputs": [],
   "source": [
    "def get_file_name(subdir):\n",
    "    return subdir[subdir.rfind('/')+1:]"
   ]
  },
  {
   "cell_type": "code",
   "execution_count": 8,
   "metadata": {},
   "outputs": [],
   "source": [
    "def get_class_name(subdir):\n",
    "    return subdir[subdir.index('/')+1:subdir.rfind('/')]"
   ]
  },
  {
   "cell_type": "code",
   "execution_count": 9,
   "metadata": {},
   "outputs": [],
   "source": [
    "def is_non_plankton(file):\n",
    "    return get_class_name(file).endswith(\"shadow\") or get_class_name(file).endswith(\"Detritus\") or get_class_name(file).endswith(\"Bubbles\")"
   ]
  },
  {
   "cell_type": "code",
   "execution_count": 10,
   "metadata": {},
   "outputs": [],
   "source": [
    "images = []\n",
    "np = 0\n",
    "p = 0\n",
    "for subdir, dirs, files in os.walk(dir):\n",
    "    for file in files:\n",
    "        if(file.endswith('.png')):\n",
    "            if (os.path.getsize(subdir+\"/\"+file) > 0):\n",
    "                if is_non_plankton(subdir+\"/\"+file):\n",
    "                    p = p + 1\n",
    "                    if p > 2500000:\n",
    "                        continue\n",
    "                else:\n",
    "                    np = np + 1\n",
    "                    if np > 2500000:\n",
    "                        continue\n",
    "                images.append(subdir+\"/\"+file)"
   ]
  },
  {
   "cell_type": "code",
   "execution_count": 11,
   "metadata": {},
   "outputs": [
    {
     "data": {
      "text/plain": [
       "54844"
      ]
     },
     "execution_count": 11,
     "metadata": {},
     "output_type": "execute_result"
    }
   ],
   "source": [
    "len(images)"
   ]
  },
  {
   "cell_type": "code",
   "execution_count": 12,
   "metadata": {},
   "outputs": [],
   "source": [
    "random.shuffle(images)"
   ]
  },
  {
   "cell_type": "code",
   "execution_count": 13,
   "metadata": {},
   "outputs": [],
   "source": [
    "X = 0.70 #Train\n",
    "Y = 0.15 #Test\n",
    "Z = 0.15 #Validation"
   ]
  },
  {
   "cell_type": "code",
   "execution_count": 14,
   "metadata": {},
   "outputs": [],
   "source": [
    "from shutil import copyfile\n",
    "sz = len(images)\n",
    "i = 0\n",
    "sub = \"train\"\n",
    "for file in images:\n",
    "    file_name = get_file_name(file)\n",
    "    if (i > X*sz and i < (X+Y)*sz):\n",
    "        sub = \"test\"\n",
    "    if (i > (X+Y)*sz):\n",
    "        sub = \"val\"\n",
    "    if(is_non_plankton(file)):\n",
    "        copyfile(file, \"Dataset-Detritus-Bubble/\"+sub+\"/Detritus/\"+file_name)\n",
    "    else:\n",
    "        copyfile(file, \"Dataset-Detritus-Bubble/\"+sub+\"/Other/\"+file_name)\n",
    "    i = i + 1"
   ]
  },
  {
   "cell_type": "code",
   "execution_count": null,
   "metadata": {
    "scrolled": false
   },
   "outputs": [],
   "source": []
  },
  {
   "cell_type": "code",
   "execution_count": 26,
   "metadata": {},
   "outputs": [
    {
     "name": "stdout",
     "output_type": "stream",
     "text": [
      " 2014\t\t\t       prepare_datasets.ipynb\r\n",
      " 2014.zip\t\t       prepare_ZooScan_dataset.ipynb\r\n",
      " 57398.tar\t\t       Train-Basic.ipynb\r\n",
      " DatasetBasic\t\t       Train_from_scratch.ipynb\r\n",
      " DatasetSIPIBubble\t       Training_hyperparam.ipynb\r\n",
      " DatasetWHOI\t\t       Train.ipynb\r\n",
      " DatasetZS\t\t       Train_tensorflow-dense.ipynb\r\n",
      " densenet_model\t\t       Train_tensorflow_from_scratch.ipynb\r\n",
      "'Image Classification.ipynb'   Train_tensorflow_mobilenet.ipynb\r\n",
      " LRoot_sipi_v4\t\t       Train_tensorflow-no-weights.ipynb\r\n",
      " LRoot_sipi_v4_nonScale.zip    Train_tensorflow_time.ipynb\r\n",
      " model.zip\t\t       ZooScanSet\r\n",
      " prepare_dataset.ipynb\r\n"
     ]
    }
   ],
   "source": [
    "!ls"
   ]
  },
  {
   "cell_type": "code",
   "execution_count": 27,
   "metadata": {},
   "outputs": [
    {
     "ename": "ModuleNotFoundError",
     "evalue": "No module named 'cv2'",
     "output_type": "error",
     "traceback": [
      "\u001b[0;31m---------------------------------------------------------------------------\u001b[0m",
      "\u001b[0;31mModuleNotFoundError\u001b[0m                       Traceback (most recent call last)",
      "\u001b[0;32m/tmp/ipykernel_31165/3152341986.py\u001b[0m in \u001b[0;36m<module>\u001b[0;34m\u001b[0m\n\u001b[1;32m      1\u001b[0m \u001b[0;32mimport\u001b[0m \u001b[0mrandom\u001b[0m\u001b[0;34m\u001b[0m\u001b[0;34m\u001b[0m\u001b[0m\n\u001b[1;32m      2\u001b[0m \u001b[0;32mimport\u001b[0m \u001b[0mos\u001b[0m\u001b[0;34m\u001b[0m\u001b[0;34m\u001b[0m\u001b[0m\n\u001b[0;32m----> 3\u001b[0;31m \u001b[0;32mimport\u001b[0m \u001b[0mcv2\u001b[0m\u001b[0;34m\u001b[0m\u001b[0;34m\u001b[0m\u001b[0m\n\u001b[0m\u001b[1;32m      4\u001b[0m \u001b[0;34m\u001b[0m\u001b[0m\n\u001b[1;32m      5\u001b[0m \u001b[0mdir\u001b[0m \u001b[0;34m=\u001b[0m \u001b[0;34m\"DatasetSIPIBubble\"\u001b[0m\u001b[0;34m\u001b[0m\u001b[0;34m\u001b[0m\u001b[0m\n",
      "\u001b[0;31mModuleNotFoundError\u001b[0m: No module named 'cv2'"
     ]
    }
   ],
   "source": []
  },
  {
   "cell_type": "code",
   "execution_count": null,
   "metadata": {},
   "outputs": [],
   "source": []
  },
  {
   "cell_type": "code",
   "execution_count": null,
   "metadata": {},
   "outputs": [],
   "source": []
  }
 ],
 "metadata": {
  "kernelspec": {
   "display_name": "Python 3 (ipykernel)",
   "language": "python",
   "name": "python3"
  },
  "language_info": {
   "codemirror_mode": {
    "name": "ipython",
    "version": 3
   },
   "file_extension": ".py",
   "mimetype": "text/x-python",
   "name": "python",
   "nbconvert_exporter": "python",
   "pygments_lexer": "ipython3",
   "version": "3.9.5"
  }
 },
 "nbformat": 4,
 "nbformat_minor": 4
}
